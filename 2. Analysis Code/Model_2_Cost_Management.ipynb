{
 "cells": [
  {
   "cell_type": "markdown",
   "metadata": {},
   "source": [
    "### **Code : (2) 비용 관리 표준화 패턴 모델링**\n",
    "\n",
    "- Project : 2024 데이터바우처 지원사업\n",
    "- Writer : Donghyeon Kim\n",
    "- Update : 2024.10.05."
   ]
  },
  {
   "cell_type": "markdown",
   "metadata": {},
   "source": [
    "#### **0. 라이브러리 및 초기 경로 설정**"
   ]
  },
  {
   "cell_type": "code",
   "execution_count": 1,
   "metadata": {},
   "outputs": [],
   "source": [
    "from pathlib import Path\n",
    "import os\n",
    "import pandas as pd\n",
    "import numpy as np\n",
    "import xlrd\n",
    "import math\n",
    "import matplotlib.pyplot as plt\n",
    "import seaborn as sns\n",
    "import warnings\n",
    "import random\n",
    "import tensorflow as tf\n",
    "from openpyxl import Workbook\n",
    "from openpyxl.utils.dataframe import dataframe_to_rows\n",
    "from openpyxl.styles import PatternFill\n",
    "from matplotlib import font_manager, rc, rcParams, ticker\n",
    "from sklearn.metrics import mean_absolute_percentage_error\n",
    "from autots import AutoTS\n",
    "from datetime import datetime, date\n",
    "from statsmodels.api import OLS\n",
    "from statsmodels.tsa.holtwinters import ExponentialSmoothing\n",
    "from keras.layers import LSTM, Dense, Input\n",
    "from keras.models import Sequential\n",
    "from sklearn.preprocessing import MinMaxScaler\n",
    "from tqdm import tqdm"
   ]
  },
  {
   "cell_type": "code",
   "execution_count": 2,
   "metadata": {},
   "outputs": [],
   "source": [
    "dr = 'C:/'\n",
    "folder_1 = 'Users/USER/Dropbox/8. 회사업무/1. 산학협력프로젝트/2024년/9. [선정] 2024 데이터바우처 지원사업/7. 분석'\n",
    "root = dr + folder_1\n",
    "\n",
    "folder_2 = '1_rawdata'\n",
    "folder_path = root + '/' + folder_2\n",
    "\n",
    "os.chdir(folder_path)"
   ]
  },
  {
   "cell_type": "code",
   "execution_count": 3,
   "metadata": {},
   "outputs": [],
   "source": [
    "# 회사이름\n",
    "company_name = os.listdir()[6] # Available Index : 0 ~ 9 (Total : 10)\n",
    "\n",
    "# 회사이름 포함 경로\n",
    "final_path = folder_path + '/' + company_name\n",
    "os.chdir(final_path)"
   ]
  },
  {
   "cell_type": "markdown",
   "metadata": {},
   "source": [
    "---"
   ]
  },
  {
   "cell_type": "markdown",
   "metadata": {},
   "source": [
    "#### **1. 매입(세금계산서) Data Load**"
   ]
  },
  {
   "cell_type": "code",
   "execution_count": 5,
   "metadata": {},
   "outputs": [
    {
     "name": "stdout",
     "output_type": "stream",
     "text": [
      "          작성일자  증빙    합계금액     용도  프로젝트/현장                            비고   메모\n",
      "61  2023-12-31  세계   59400  지급수수료      NaN   결의서_202401_5, 2024-01-10 계좌  NaN\n",
      "62  2023-12-28  세계  993300    자재비      NaN  결의서_202312_19, 2023-12-29 계좌  NaN\n",
      "63  2023-12-27  세계  880000    임차료      NaN  결의서_202312_18, 2023-12-29 계좌  NaN\n",
      "64  2023-12-26  세계  286000   소모품비      NaN  결의서_202312_17, 2023-12-29 계좌  NaN\n",
      "65  2023-12-18   계   17020  건물관리비      NaN  결의서_202312_16, 2023-12-29 계좌  NaN\n"
     ]
    }
   ],
   "source": [
    "# '매입(세금계산서)' 파일명 검색\n",
    "file_name = [file for file in os.listdir() if '매입(세금계산서)' in file]  # 매입(세금계산서) 파일 1개\n",
    "\n",
    "# 파일 존재 여부 확인\n",
    "if len(file_name) > 0:\n",
    "    # Data Frame\n",
    "    df = pd.read_excel(file_name[0], skiprows=1)\n",
    "    # Data Frame Head(2023)\n",
    "    df_without_account = df.drop(columns=['공급자상호', '내용'])\n",
    "    print(df_without_account[df_without_account['작성일자'].str.contains('2023-12')].head())\n",
    "else:\n",
    "    # 파일 없음 오류 문구\n",
    "    print(\"매입(세금계산서) 파일이 없습니다.\")"
   ]
  },
  {
   "cell_type": "code",
   "execution_count": 6,
   "metadata": {},
   "outputs": [],
   "source": [
    "# 회사명에 따른 결과물 저장 경로\n",
    "result_root = os.path.join(root, 'Model(2nd)')\n",
    "company_result_root = os.path.join(result_root, company_name, '1_매입(세금계산서)')\n",
    "if not os.path.isdir(company_result_root):\n",
    "    os.makedirs(company_result_root)"
   ]
  },
  {
   "cell_type": "markdown",
   "metadata": {},
   "source": [
    "#### **1) 매입(세금계산서) : 비율 수치 & Graph**"
   ]
  },
  {
   "cell_type": "code",
   "execution_count": 13,
   "metadata": {},
   "outputs": [
    {
     "name": "stdout",
     "output_type": "stream",
     "text": [
      "용도별 비율 계산 중\n",
      "----------------------------------------------\n",
      "      용도         합계금액      비율\n",
      "0  건물관리비    8,992,900   3.285\n",
      "1    광고비       22,000   0.008\n",
      "2  도서인쇄비      738,100   0.270\n",
      "3     매입  115,054,919  42.032\n",
      "4   소모품비   12,418,500   4.537\n",
      "5    임차료   29,161,000  10.653\n",
      "6    자재비   82,765,100  30.236\n",
      "7  지급수수료   22,684,639   8.287\n",
      "8    통신비    1,894,474   0.692\n",
      "----------------------------------------------\n",
      "용도별 비율 표 Excel 저장 완료\n"
     ]
    }
   ],
   "source": [
    "# 1) 용도별 비율 수치 계산\n",
    "print('용도별 비율 계산 중')\n",
    "usage_summary = df.groupby('용도')['합계금액'].sum().reset_index()  # '사용금액' 대신 '합계금액' 사용\n",
    "usage_summary['비율'] = round((usage_summary['합계금액'] / usage_summary['합계금액'].sum()) * 100, 3)\n",
    "\n",
    "# '합계금액' 열에 콤마를 추가한 형식으로 변환\n",
    "usage_summary['합계금액'] = usage_summary['합계금액'].apply(lambda x: f'{int(x):,}')\n",
    "\n",
    "print('----------------------------------------------')\n",
    "print(usage_summary)\n",
    "print('----------------------------------------------')\n",
    "\n",
    "# 결과물 최종 경로\n",
    "output_file = os.path.join(company_result_root, '결과1_용도 비율 표.xlsx')\n",
    "\n",
    "# 엑셀 파일로 저장\n",
    "usage_summary.to_excel(output_file, index=False)\n",
    "print('용도별 비율 표 Excel 저장 완료')"
   ]
  },
  {
   "cell_type": "code",
   "execution_count": 14,
   "metadata": {},
   "outputs": [
    {
     "name": "stdout",
     "output_type": "stream",
     "text": [
      "용도별 비율 그래프 저장 완료\n"
     ]
    }
   ],
   "source": [
    "# 2) 3% 이상인 항목만 그래프에 표시 (표에는 모두 포함)\n",
    "filtered_data = usage_summary[usage_summary['비율'] >= 3]\n",
    "\n",
    "# Seaborn 스타일 설정 및 글씨 설정\n",
    "sns.set_theme(style='whitegrid')\n",
    "plt.figure(figsize=(10, 6), dpi=300)\n",
    "plt.rcParams['font.family'] = 'NanumGothicOTF' # 'NanumGothic' or 'NanumGothicOTF'\n",
    "\n",
    "# 컬러맵 설정\n",
    "cmap = plt.get_cmap('tab20')\n",
    "colors = [cmap(i / len(filtered_data)) for i in range(len(filtered_data))]\n",
    "\n",
    "# Seaborn을 사용한 barplot 생성\n",
    "bar_plot = sns.barplot(x='비율', y='용도', data=filtered_data,\n",
    "                       hue='용도', palette='tab20', dodge=False, legend=False)\n",
    "\n",
    "# 제목 및 레이블 설정에 폰트 적용\n",
    "bar_plot.set_title('용도별 사용금액 비율 (3% 이상만 표시)', fontsize=16, fontweight='bold')\n",
    "bar_plot.set_xlabel('비율 (%)', fontsize=14, fontweight='bold')\n",
    "bar_plot.set_ylabel('용도', fontsize=14, fontweight='bold')\n",
    "\n",
    "# 막대마다 비율(%) 수치 표시\n",
    "for index, value in enumerate(filtered_data['비율']):\n",
    "    plt.text(value + 0.5, index, f'{value:.1f}%', va='center', fontsize=12, color='black')  # 수치를 막대 옆에 표시\n",
    "\n",
    "# 그래프 저장\n",
    "graph_path = os.path.join(company_result_root, '결과1_용도 비율 그래프.png')\n",
    "plt.tight_layout()\n",
    "plt.savefig(graph_path)\n",
    "plt.close()\n",
    "\n",
    "print('용도별 비율 그래프 저장 완료')"
   ]
  },
  {
   "cell_type": "markdown",
   "metadata": {},
   "source": [
    "#### **2) 매입(세금계산서) : 월별 추세 수치 & Graph**"
   ]
  },
  {
   "cell_type": "code",
   "execution_count": 15,
   "metadata": {},
   "outputs": [
    {
     "name": "stdout",
     "output_type": "stream",
     "text": [
      "용도/월별 금액 추세 계산 중\n",
      "용도 및 월별 금액 추세 그래프 (2023년까지) 저장 완료\n"
     ]
    }
   ],
   "source": [
    "# 분석 2 : 용도/월(Month)별 금액 추세 수치 + Graph\n",
    "print('용도/월별 금액 추세 계산 중')\n",
    "\n",
    "# Seaborn 스타일 설정 및 글씨 설정\n",
    "sns.set_theme(style='whitegrid')\n",
    "plt.figure(figsize=(20, 10), dpi=300)\n",
    "plt.rcParams['font.family'] = 'NanumGothicOTF'\n",
    "\n",
    "# 작성일자에서 '월' 변수를 추출하여 추가\n",
    "df['작성일자'] = pd.to_datetime(df['작성일자'])  # 작성일자를 datetime 형식으로 변환\n",
    "df['월'] = df['작성일자'].dt.to_period('M')  # '월' 변수 생성 (YYYY-MM 형태)\n",
    "\n",
    "# 2023년까지의 데이터만 필터링\n",
    "df_filtered = df[df['작성일자'] <= '2023-12-31']  # 2023년까지 데이터 선택\n",
    "\n",
    "# 금액 추세 수치 계산\n",
    "monthly_trend = df_filtered.groupby(['월', '용도'])['합계금액'].sum().reset_index()\n",
    "trend_pivot = monthly_trend.pivot(index='월', columns='용도', values='합계금액').fillna(0)\n",
    "trend_pivot.index = trend_pivot.index.to_timestamp().strftime('%Y-%m')  # Timestamp → 'YYYY-MM' 형태 변환\n",
    "\n",
    "# 각 용도별 총 사용 금액 계산\n",
    "total_usage_by_type = trend_pivot.sum(axis=0)\n",
    "\n",
    "# 총 사용 금액이 가장 많은 상위 5개의 용도 선택\n",
    "top_5_usage_types = total_usage_by_type.nlargest(5).index\n",
    "\n",
    "# 상위 5개의 용도만 필터링\n",
    "filtered_trend_pivot = trend_pivot[top_5_usage_types]\n",
    "\n",
    "# Seaborn 라인 차트 생성\n",
    "for usage_type in filtered_trend_pivot.columns:\n",
    "    sns.lineplot(x=filtered_trend_pivot.index, y=filtered_trend_pivot[usage_type], marker='o', label=usage_type)\n",
    "\n",
    "# 제목 및 레이블 설정\n",
    "plt.title('월별 용도별 사용금액 추세 (Top 5)', fontsize=16, fontweight='bold')\n",
    "plt.xlabel('월', fontsize=14, fontweight='bold')\n",
    "plt.ylabel('사용금액', fontsize=14, fontweight='bold')\n",
    "\n",
    "# y축 금액 포맷을 일반 숫자 형식으로 변경 (콤마 포함)\n",
    "ax = plt.gca()  # 현재 축 가져오기\n",
    "\n",
    "# FuncFormatter를 사용하여 금액을 콤마로 구분된 형식으로 변경\n",
    "ax.yaxis.set_major_formatter(ticker.FuncFormatter(lambda x, _: f'{int(x):,}'))\n",
    "\n",
    "# x축 레이블 간격을 조정하고 레이블을 45도 회전\n",
    "plt.xticks(rotation=45, ha='right')  # ha='right'는 레이블을 오른쪽에 정렬\n",
    "\n",
    "# Legend를 그래프 밖으로 위치 조정\n",
    "plt.legend(bbox_to_anchor=(1.05, 1), loc='upper left', borderaxespad=0, fontsize=14)\n",
    "\n",
    "# 그리드 추가\n",
    "plt.grid(True)\n",
    "\n",
    "# 그래프 저장\n",
    "line_chart_path = os.path.join(company_result_root, '결과2_용도 및 월별 추세.png')\n",
    "plt.tight_layout()\n",
    "plt.savefig(line_chart_path, bbox_inches='tight')\n",
    "plt.close()\n",
    "\n",
    "print('용도 및 월별 금액 추세 그래프 (2023년까지) 저장 완료')"
   ]
  },
  {
   "cell_type": "markdown",
   "metadata": {},
   "source": [
    "#### **3) 매입(세금계산서) : 비용 적정성 결과**"
   ]
  },
  {
   "cell_type": "code",
   "execution_count": 16,
   "metadata": {},
   "outputs": [
    {
     "name": "stdout",
     "output_type": "stream",
     "text": [
      "전월 대비 비용 적정성 계산 중\n",
      "전월 대비 비용 적정성 결과 저장 완료\n"
     ]
    }
   ],
   "source": [
    "# 분석 3 : 용도별 전월 대비 비용 적정성 분석 결과\n",
    "print('전월 대비 비용 적정성 계산 중')\n",
    "\n",
    "# 금액 추세 수치 계산\n",
    "monthly_trend = df_filtered.groupby(['월', '용도'])['합계금액'].sum().reset_index()\n",
    "trend_pivot = monthly_trend.pivot(index='월', columns='용도', values='합계금액').fillna(0)\n",
    "trend_pivot.index = trend_pivot.index.to_timestamp().strftime('%Y-%m')  # Timestamp → 'YYYY-MM' 형태 변환\n",
    "\n",
    "# 전월 대비 이번 달의 적정성 평가\n",
    "comparison_results = pd.DataFrame()\n",
    "\n",
    "# 첫 달은 비교 없이 그대로 금액을 표시\n",
    "first_month_result = pd.DataFrame(trend_pivot.iloc[0].apply(lambda x: f'{int(x):,}')).T\n",
    "first_month_result.index = [trend_pivot.index[0]]\n",
    "comparison_results = pd.concat([comparison_results, first_month_result], ignore_index=False)\n",
    "\n",
    "for k in range(1, len(trend_pivot)):  # 첫 달 이후 달부터 평가\n",
    "    last_month = trend_pivot.iloc[k - 1]  # 전월 데이터\n",
    "    current_month = trend_pivot.iloc[k]  # 이번 달 데이터\n",
    "    comparison = current_month - last_month  # 전월과의 차이 계산\n",
    "    \n",
    "    # 적정성 평가\n",
    "    comparison_eval = comparison.apply(\n",
    "        lambda x: '낮음' if x < 0 else ('높음' if x > 0 else '보통')  # 전월 대비 적정성 평가\n",
    "    )\n",
    "    \n",
    "    # '비용 적정성(변동액)' 형태로 정리\n",
    "    result_with_values = comparison_eval + '(' + comparison.fillna(0).round(0).astype(int).apply(lambda x: f'{x:,}') + ')'\n",
    "    \n",
    "    # 결과 정리\n",
    "    monthly_result = pd.DataFrame(result_with_values).T\n",
    "    monthly_result.index = [trend_pivot.index[k]]\n",
    "    comparison_results = pd.concat([comparison_results, monthly_result], ignore_index=False)\n",
    "\n",
    "# 엑셀 저장 경로\n",
    "output_file = os.path.join(company_result_root, '결과3_전월 대비 비용 적정성 결과.xlsx')\n",
    "\n",
    "# Excel 파일 생성\n",
    "wb = Workbook()\n",
    "ws = wb.active\n",
    "ws.title = \"전월 대비 비용 적정성 분석 결과\"\n",
    "\n",
    "# 첫 번째 행에 열 제목을 입력\n",
    "ws.append(['날짜'] + list(comparison_results.columns))\n",
    "\n",
    "# 데이터프레임을 엑셀 시트로 전송\n",
    "for r_idx, row in enumerate(dataframe_to_rows(comparison_results, index=True, header=True), 1):\n",
    "    for c_idx, value in enumerate(row, 1):\n",
    "        ws.cell(row=r_idx, column=c_idx, value=value)\n",
    "        \n",
    "        # 첫 번째 달(첫 행)에는 색상을 부여하지 않음\n",
    "        if r_idx > 1 and c_idx > 1 and isinstance(value, str):  # 첫 번째 행과 열은 제외하고 색상 설정\n",
    "            if '(' in value:  # 괄호가 있는지 확인\n",
    "                eval_text = value.split('(')[0]  # \"낮음\", \"보통\", \"높음\" 추출\n",
    "                number_value = value.split('(')[1].replace(')', '')  # 금액 부분만 추출\n",
    "                \n",
    "                if eval_text == '낮음':\n",
    "                    ws.cell(row=r_idx, column=c_idx, value=number_value).fill = PatternFill(start_color=\"32CD32\", end_color=\"32CD32\", fill_type=\"solid\")  # Limegreen\n",
    "                elif eval_text == '보통':\n",
    "                    ws.cell(row=r_idx, column=c_idx, value=number_value).fill = PatternFill(start_color=\"FFD700\", end_color=\"FFD700\", fill_type=\"solid\")  # Gold\n",
    "                elif eval_text == '높음':\n",
    "                    ws.cell(row=r_idx, column=c_idx, value=number_value).fill = PatternFill(start_color=\"FF6347\", end_color=\"FF6347\", fill_type=\"solid\")  # Tomato\n",
    "\n",
    "# 엑셀 파일 저장\n",
    "wb.save(output_file)\n",
    "print(\"전월 대비 비용 적정성 결과 저장 완료\")"
   ]
  },
  {
   "cell_type": "markdown",
   "metadata": {},
   "source": [
    "#### **4) 매입(세금계산서) : 향후 추세 분석/예측 결과**"
   ]
  },
  {
   "cell_type": "code",
   "execution_count": 17,
   "metadata": {},
   "outputs": [],
   "source": [
    "# MAPE 계산 함수\n",
    "def calculate_mape(true_values, predicted_values):\n",
    "    mape = mean_absolute_percentage_error(true_values, predicted_values) * 100\n",
    "    return round(mape, 2)  # 소수점 아래 2자리에서 반올림\n",
    "\n",
    "# LSTM Model (Random Seed)\n",
    "def lstm_forecast(train_data, steps=12):\n",
    "    # # 시드 고정 (LSTM에만 적용)\n",
    "    # np.random.seed(seed)\n",
    "    # random.seed(seed)\n",
    "    # tf.random.set_seed(seed)\n",
    "\n",
    "    scaler = MinMaxScaler(feature_range=(0, 1))\n",
    "    scaled_train_data = scaler.fit_transform(train_data.values.reshape(-1, 1))\n",
    "\n",
    "    model = Sequential()\n",
    "    model.add(Input(shape=(1, 1)))  # Input 객체로 첫 번째 레이어 정의\n",
    "    model.add(LSTM(50, activation='relu'))\n",
    "    model.add(Dense(1))\n",
    "    model.compile(optimizer='adam', loss='mse')\n",
    "\n",
    "    X_train = np.array([scaled_train_data[i] for i in range(len(scaled_train_data) - 1)])\n",
    "    y_train = np.array([scaled_train_data[i+1] for i in range(len(scaled_train_data) - 1)])\n",
    "\n",
    "    model.fit(X_train, y_train, epochs=100, verbose=0)\n",
    "\n",
    "    last_value = scaled_train_data[-1]\n",
    "    predictions = []\n",
    "    for _ in range(steps):\n",
    "        pred = model.predict(last_value.reshape(1, 1), verbose=0)\n",
    "        predictions.append(pred[0][0])\n",
    "        last_value = np.array([[pred[0][0]]])\n",
    "\n",
    "    predictions = scaler.inverse_transform(np.array(predictions).reshape(-1, 1))\n",
    "    return pd.Series(predictions.flatten())"
   ]
  },
  {
   "cell_type": "code",
   "execution_count": 20,
   "metadata": {},
   "outputs": [
    {
     "name": "stdout",
     "output_type": "stream",
     "text": [
      "향후 12개월 추세 예측 및 위험도 평가 실행 중\n"
     ]
    },
    {
     "name": "stderr",
     "output_type": "stream",
     "text": [
      "Forecasting:   0%|          | 0/9 [00:00<?, ?it/s]"
     ]
    },
    {
     "name": "stdout",
     "output_type": "stream",
     "text": [
      "----------------------------------------------\n",
      "건물관리비: LSTM Model 사용\n",
      "건물관리비 MAPE: 6.71%\n"
     ]
    },
    {
     "name": "stderr",
     "output_type": "stream",
     "text": [
      "Forecasting:  11%|█         | 1/9 [00:08<01:10,  8.86s/it]"
     ]
    },
    {
     "name": "stdout",
     "output_type": "stream",
     "text": [
      "----------------------------------------------\n",
      "광고비: 예측 건너뜀 (0 값 비율 = 97.30%)\n",
      "도서인쇄비: 예측 건너뜀 (0 값 비율 = 81.08%)\n",
      "매입: 예측 건너뜀 (0 값 비율 = 62.16%)\n",
      "소모품비: 예측 건너뜀 (0 값 비율 = 24.32%)\n",
      "----------------------------------------------\n",
      "임차료: LSTM Model 사용\n",
      "임차료 MAPE: 21.32%\n"
     ]
    },
    {
     "name": "stderr",
     "output_type": "stream",
     "text": [
      "Forecasting:  67%|██████▋   | 6/9 [00:26<00:12,  4.20s/it]"
     ]
    },
    {
     "name": "stdout",
     "output_type": "stream",
     "text": [
      "----------------------------------------------\n",
      "자재비: 예측 건너뜀 (0 값 비율 = 35.14%)\n",
      "----------------------------------------------\n",
      "지급수수료: LSTM Model 사용\n",
      "지급수수료 MAPE: 85.01%\n"
     ]
    },
    {
     "name": "stderr",
     "output_type": "stream",
     "text": [
      "Forecasting:  89%|████████▉ | 8/9 [00:35<00:04,  4.34s/it]"
     ]
    },
    {
     "name": "stdout",
     "output_type": "stream",
     "text": [
      "----------------------------------------------\n",
      "----------------------------------------------\n",
      "통신비: LSTM Model 사용\n",
      "통신비 MAPE: 27.52%\n"
     ]
    },
    {
     "name": "stderr",
     "output_type": "stream",
     "text": [
      "Forecasting: 100%|██████████| 9/9 [00:43<00:00,  4.88s/it]"
     ]
    },
    {
     "name": "stdout",
     "output_type": "stream",
     "text": [
      "----------------------------------------------\n",
      "예측 결과 및 위험도 분석 엑셀 저장 완료\n"
     ]
    },
    {
     "name": "stderr",
     "output_type": "stream",
     "text": [
      "\n"
     ]
    },
    {
     "data": {
      "text/plain": [
       "<Figure size 6000x3000 with 0 Axes>"
      ]
     },
     "metadata": {},
     "output_type": "display_data"
    }
   ],
   "source": [
    "# 경고 무시 설정\n",
    "warnings.filterwarnings(\"ignore\", category=FutureWarning)\n",
    "\n",
    "# Seaborn 스타일 설정 및 글씨 설정\n",
    "sns.set_theme(style='whitegrid')\n",
    "plt.figure(figsize=(20, 10), dpi=300)\n",
    "plt.rcParams['font.family'] = 'NanumGothicOTF'\n",
    "\n",
    "# 분석 4 : 미래 12개월 금액 추세 예측 결과(LSTM + MAPE 평가)\n",
    "print('향후 12개월 추세 예측 및 위험도 평가 실행 중')\n",
    "forecast_results = {} # 추세 예측 결과\n",
    "risk_eval_results = {} # 위험도 평가 결과\n",
    "mape_results = {}  # MAPE 평가 결과\n",
    "forecast_plots = {} # 용도별 예측 그래프 경로\n",
    "\n",
    "for col in tqdm(trend_pivot.columns, desc='Forecasting'):\n",
    "    if len(trend_pivot[col].dropna()) < 3:  # 예측 시도 전에 데이터 길이 체크\n",
    "        print(f'예측 불가 : {col} → 데이터가 3개 미만')\n",
    "        forecast_results[col] = pd.Series([None] * 12)  # 예측 불가\n",
    "        risk_eval_results[col] = [None] * 12  # 예측 불가\n",
    "        mape_results[col] = None  # MAPE 계산 불가\n",
    "        continue\n",
    "    \n",
    "    # 0 값 비율 계산\n",
    "    zero_ratio = (trend_pivot[col] == 0).mean()\n",
    "    \n",
    "    # 0 값 비율이 10%를 넘으면 예측을 건너뜀\n",
    "    if zero_ratio > 0.1:  # 10% 이상 0이면 예측 건너뛰기\n",
    "        print(f'{col}: 예측 건너뜀 (0 값 비율 = {zero_ratio:.2%})')\n",
    "        forecast_results[col] = pd.Series([None] * 12)  # 예측 불가\n",
    "        risk_eval_results[col] = [None] * 12  # 예측 불가\n",
    "        mape_results[col] = None  # MAPE 계산 불가\n",
    "        continue\n",
    "\n",
    "    try:\n",
    "        # LSTM 모델 적용\n",
    "        print('----------------------------------------------')\n",
    "        print(f'{col}: LSTM Model 사용')\n",
    "        forecast = lstm_forecast(trend_pivot[col].dropna(), steps=12)\n",
    "        \n",
    "        # 예측 결과 저장\n",
    "        forecast_results[col] = forecast\n",
    "        \n",
    "        # MAPE 계산 (마지막 12개월의 실제 값과 비교)\n",
    "        actual_values = trend_pivot[col].dropna()[-12:]\n",
    "        if len(actual_values) == 12:\n",
    "            mape = calculate_mape(actual_values, forecast)\n",
    "            mape_results[col] = mape\n",
    "            print(f'{col} MAPE: {mape:.2f}%')\n",
    "        else:\n",
    "            print(f'{col} MAPE 계산 불가: 데이터가 충분하지 않음')\n",
    "            mape_results[col] = None\n",
    "        \n",
    "        # 인덱스를 명시적으로 날짜로 변환 (tz 오류 해결)\n",
    "        trend_pivot.index = pd.to_datetime(trend_pivot.index, format='%Y-%m')\n",
    "        \n",
    "        # Seaborn lineplot을 사용하여 실제값과 예측값 그리기\n",
    "        plt.figure(figsize=(20, 10), dpi=300)  # 모든 그래프의 크기를 동일하게 설정\n",
    "        sns.lineplot(x=trend_pivot.index, y=trend_pivot[col], label='실제값', marker='o', color='blue')\n",
    "        sns.lineplot(x=pd.date_range(start=trend_pivot.index[-1], periods=12, freq='M'), y=forecast, label='예측값 (LSTM Model)', linestyle='--', marker='x', color='red')\n",
    "\n",
    "        # 제목 및 레이블 설정\n",
    "        plt.title(f'{col} 향후 12개월 예상 금액', fontsize=16, fontweight='bold')\n",
    "        plt.xlabel('날짜', fontsize=14, fontweight='bold')\n",
    "        plt.ylabel('금액', fontsize=14, fontweight='bold')\n",
    "\n",
    "        # y축 금액 포맷을 일반 숫자 형식으로 변경 (콤마 포함)\n",
    "        ax = plt.gca()  # 현재 축 가져오기\n",
    "\n",
    "        # FuncFormatter를 사용하여 금액을 콤마로 구분된 형식으로 변경\n",
    "        ax.yaxis.set_major_formatter(ticker.FuncFormatter(lambda x, _: f'{int(x):,}'))\n",
    "        \n",
    "        # y축의 값을 0부터 시작하도록 설정\n",
    "        plt.ylim(bottom=0)\n",
    "\n",
    "        # x축 레이블 간격을 조정하고 레이블을 45도 회전\n",
    "        plt.xticks(rotation=45, ha='right')  # ha='right'는 레이블을 오른쪽에 정렬\n",
    "\n",
    "        # Legend를 그래프 밖으로 위치 조정\n",
    "        plt.legend(bbox_to_anchor=(1.05, 1), loc='upper left', borderaxespad=0, fontsize=14)\n",
    "\n",
    "        # 그래프 저장\n",
    "        forecast_plot_path = os.path.join(company_result_root, f'결과4_용도 {col} 예측 그래프.png')\n",
    "        plt.tight_layout()\n",
    "        plt.savefig(forecast_plot_path)\n",
    "        plt.close()\n",
    "        \n",
    "        # 그래프 경로 저장\n",
    "        forecast_plots[col] = forecast_plot_path\n",
    "        \n",
    "    except Exception as e:\n",
    "        # 예측 실패 시 None 값 처리\n",
    "        print(f'예측 오류 {col}: {e}')\n",
    "        forecast_results[col] = pd.Series([None] * 12)\n",
    "        risk_eval_results[col] = [None] * 12\n",
    "        mape_results[col] = None\n",
    "    \n",
    "    print('----------------------------------------------')\n",
    "\n",
    "# 예측 결과 + 위험도 평가 + MAPE 결과 정리\n",
    "forecast_df = pd.DataFrame(forecast_results)\n",
    "start_date = df['작성일자'].max()\n",
    "forecast_df.index = pd.date_range(start=start_date, periods=12, freq='M')\n",
    "forecast_df.index = forecast_df.index.strftime('%Y-%m')  # Index 'yyyy-mm' 형태 변환\n",
    "\n",
    "# MAPE 결과 추가\n",
    "mape_df = pd.DataFrame(mape_results, index=[0])\n",
    "mape_df.index = ['MAPE']\n",
    "\n",
    "# 예측 결과 + MAPE 평가 취합 및 정렬\n",
    "forecast_combined_df = pd.concat([forecast_df, mape_df], axis=0)\n",
    "\n",
    "# 엑셀 저장 경로 설정\n",
    "output_file = os.path.join(company_result_root, '결과4_추세 예측 결과.xlsx')\n",
    "\n",
    "# Excel 파일 생성 및 저장\n",
    "wb = Workbook()\n",
    "ws = wb.active\n",
    "ws.title = \"예측 결과\"\n",
    "\n",
    "# 첫 번째 행에 열 제목을 입력\n",
    "ws.append(['날짜'] + list(forecast_combined_df.columns))\n",
    "\n",
    "# 데이터프레임을 엑셀 시트로 전송 및 색상 적용\n",
    "for r_idx, row in enumerate(forecast_combined_df.itertuples(), 1):\n",
    "    for c_idx, value in enumerate(row, 0):  # 0에서 시작하여 열을 일치시킴\n",
    "        if c_idx == 0:\n",
    "            # 첫 번째 열에 날짜를 입력\n",
    "            ws.cell(row=r_idx + 1, column=1, value=forecast_combined_df.index[r_idx - 1])\n",
    "        else:\n",
    "            # 나머지 열에 값 입력\n",
    "            ws.cell(row=r_idx + 1, column=c_idx + 1, value=value)\n",
    "\n",
    "            # MAPE 행에는 색상을 적용하지 않음\n",
    "            if forecast_combined_df.index[r_idx - 1] != 'MAPE' and pd.notna(value):\n",
    "                # 과거 평균값과 비교하여 색상 적용\n",
    "                col_name = forecast_combined_df.columns[c_idx - 1]  # c_idx-1로 수정하여 열을 올바르게 참조\n",
    "                \n",
    "                # 예측하기 직전 달까지의 평균값 계산 (MAPE와 현재 행을 제외한 값들로 평균 계산)\n",
    "                avg_past = trend_pivot[col_name].mean()\n",
    "\n",
    "                # 값이 평균보다 작으면 초록색, 크면 빨간색, 비슷하면 주황색\n",
    "                if value < avg_past:\n",
    "                    ws.cell(row=r_idx + 1, column=c_idx + 1).fill = PatternFill(start_color=\"32CD32\", end_color=\"32CD32\", fill_type=\"solid\")  # Limegreen\n",
    "                elif value > avg_past:\n",
    "                    ws.cell(row=r_idx + 1, column=c_idx + 1).fill = PatternFill(start_color=\"FF6347\", end_color=\"FF6347\", fill_type=\"solid\")  # Tomato\n",
    "                else:\n",
    "                    ws.cell(row=r_idx + 1, column=c_idx + 1).fill = PatternFill(start_color=\"FFD700\", end_color=\"FFD700\", fill_type=\"solid\")  # Gold\n",
    "\n",
    "# 엑셀 파일 저장\n",
    "wb.save(output_file)\n",
    "print(\"예측 결과 및 위험도 분석 엑셀 저장 완료\")"
   ]
  },
  {
   "cell_type": "markdown",
   "metadata": {},
   "source": [
    "---"
   ]
  },
  {
   "cell_type": "markdown",
   "metadata": {},
   "source": [
    "#### **2. 매입(카드/페이) Data Load**"
   ]
  },
  {
   "cell_type": "code",
   "execution_count": 27,
   "metadata": {},
   "outputs": [
    {
     "name": "stdout",
     "output_type": "stream",
     "text": [
      "           사용일자  증빙   사용금액 사용처과세유형     용도       내용 공제/불공제  비고  메모\n",
      "822  2023-12-30 NaN   3540      일반  복리후생비      간식대      Y NaN NaN\n",
      "823  2023-12-30 NaN   1500      일반  복리후생비      음료대      Y NaN NaN\n",
      "824  2023-12-29 NaN   4050      일반  복리후생비      간식대      Y NaN NaN\n",
      "825  2023-12-29 NaN  14700      일반   소모품비  소모품 구입대      Y NaN NaN\n",
      "826  2023-12-29 NaN   3500      일반  복리후생비      간식대      Y NaN NaN\n"
     ]
    }
   ],
   "source": [
    "# '매입(카드_페이)' 파일명 검색\n",
    "file_name = [file for file in os.listdir() if '매입(카드_페이)' in file]  # 매입(카드/페이) 파일 1개\n",
    "\n",
    "# 파일 존재 여부 확인\n",
    "if len(file_name) > 0:\n",
    "    # Data Frame\n",
    "    df = pd.read_excel(file_name[0], skiprows=1)\n",
    "    # Data Frame Head(2023)\n",
    "    df_without_account = df.drop(columns=['사용처', '카드번호', '사용처업종'])\n",
    "    print(df_without_account[df_without_account['사용일자'].str.contains('2023-12')].head())\n",
    "else:\n",
    "    # 파일 없음 오류 문구\n",
    "    print(\"매입(카드/페이) 파일이 없습니다.\")"
   ]
  },
  {
   "cell_type": "code",
   "execution_count": 28,
   "metadata": {},
   "outputs": [],
   "source": [
    "# 회사명에 따른 결과물 저장 경로\n",
    "result_root = os.path.join(root, 'Model(2nd)')\n",
    "company_result_root = os.path.join(result_root, company_name, '2_매입(카드_페이)')\n",
    "if not os.path.isdir(company_result_root):\n",
    "    os.makedirs(company_result_root)"
   ]
  },
  {
   "cell_type": "markdown",
   "metadata": {},
   "source": [
    "#### **1) 매입(카드/페이) : 비율 수치 & Graph**"
   ]
  },
  {
   "cell_type": "code",
   "execution_count": 29,
   "metadata": {},
   "outputs": [
    {
     "name": "stdout",
     "output_type": "stream",
     "text": [
      "용도별 비율 계산 중\n",
      "----------------------------------------------\n",
      "         용도        사용금액      비율\n",
      "0   가지급금 출금   1,500,000   1.139\n",
      "1       교통비       6,400   0.005\n",
      "2      기타비용   6,544,510   4.968\n",
      "3     도서인쇄비     970,500   0.737\n",
      "4       보험료   7,874,890   5.978\n",
      "5     복리후생비  48,644,980  36.931\n",
      "6      소모품비  39,531,970  30.012\n",
      "7     여비교통비     141,900   0.108\n",
      "8       운반비     115,200   0.087\n",
      "9       자재비     440,700   0.335\n",
      "10      접대비   1,050,500   0.798\n",
      "11      주차비      30,100   0.023\n",
      "12    지급수수료     767,810   0.583\n",
      "13    차량수리비      51,000   0.039\n",
      "14    차량유지비  23,805,409  18.073\n",
      "15      출장비      94,500   0.072\n",
      "16      통신비      77,870   0.059\n",
      "17      회식비      72,000   0.055\n",
      "----------------------------------------------\n",
      "용도별 비율 표 Excel 저장 완료\n"
     ]
    }
   ],
   "source": [
    "# 1) 용도별 비율 수치 계산\n",
    "print('용도별 비율 계산 중')\n",
    "usage_summary = df.groupby('용도')['사용금액'].sum().reset_index()  # '사용금액'\n",
    "usage_summary['비율'] = round((usage_summary['사용금액'] / usage_summary['사용금액'].sum()) * 100, 3)\n",
    "\n",
    "# '사용금액' 열에 콤마를 추가한 형식으로 변환\n",
    "usage_summary['사용금액'] = usage_summary['사용금액'].apply(lambda x: f'{int(x):,}')\n",
    "\n",
    "print('----------------------------------------------')\n",
    "print(usage_summary)\n",
    "print('----------------------------------------------')\n",
    "\n",
    "# 결과물 최종 경로\n",
    "output_file = os.path.join(company_result_root, '결과1_용도 비율 표.xlsx')\n",
    "\n",
    "# 엑셀 파일로 저장\n",
    "usage_summary.to_excel(output_file, index=False)\n",
    "print('용도별 비율 표 Excel 저장 완료')"
   ]
  },
  {
   "cell_type": "code",
   "execution_count": 30,
   "metadata": {},
   "outputs": [
    {
     "name": "stdout",
     "output_type": "stream",
     "text": [
      "용도별 비율 그래프 저장 완료\n"
     ]
    }
   ],
   "source": [
    "# 2) 3% 이상인 항목만 그래프에 표시 (표에는 모두 포함)\n",
    "filtered_data = usage_summary[usage_summary['비율'] >= 3]\n",
    "\n",
    "# Seaborn 스타일 설정 및 글씨 설정\n",
    "sns.set_theme(style='whitegrid')\n",
    "plt.figure(figsize=(10, 6), dpi=300)\n",
    "plt.rcParams['font.family'] = 'NanumGothicOTF' # 'NanumGothic' or 'NanumGothicOTF'\n",
    "\n",
    "# 컬러맵 설정\n",
    "cmap = plt.get_cmap('tab20')\n",
    "colors = [cmap(i / len(filtered_data)) for i in range(len(filtered_data))]\n",
    "\n",
    "# Seaborn을 사용한 barplot 생성\n",
    "bar_plot = sns.barplot(x='비율', y='용도', data=filtered_data,\n",
    "                       hue='용도', palette='tab20', dodge=False, legend=False)\n",
    "\n",
    "# 제목 및 레이블 설정에 폰트 적용\n",
    "bar_plot.set_title('용도별 사용금액 비율 (3% 이상만 표시)', fontsize=16, fontweight='bold')\n",
    "bar_plot.set_xlabel('비율 (%)', fontsize=14, fontweight='bold')\n",
    "bar_plot.set_ylabel('용도', fontsize=14, fontweight='bold')\n",
    "\n",
    "# 막대마다 비율(%) 수치 표시\n",
    "for index, value in enumerate(filtered_data['비율']):\n",
    "    plt.text(value + 0.5, index, f'{value:.1f}%', va='center', fontsize=12, color='black')  # 수치를 막대 옆에 표시\n",
    "\n",
    "# 그래프 저장\n",
    "graph_path = os.path.join(company_result_root, '결과1_용도 비율 그래프.png')\n",
    "plt.tight_layout()\n",
    "plt.savefig(graph_path)\n",
    "plt.close()\n",
    "\n",
    "print('용도별 비율 그래프 저장 완료')"
   ]
  },
  {
   "cell_type": "markdown",
   "metadata": {},
   "source": [
    "#### **2) 매입(카드/페이) : 월별 추세 수치 & Graph**"
   ]
  },
  {
   "cell_type": "code",
   "execution_count": 31,
   "metadata": {},
   "outputs": [
    {
     "name": "stdout",
     "output_type": "stream",
     "text": [
      "용도/월별 금액 추세 계산 중\n",
      "용도 및 월별 금액 추세 그래프 (2023년까지) 저장 완료\n"
     ]
    }
   ],
   "source": [
    "# 분석 2 : 용도/월(Month)별 금액 추세 수치 + Graph\n",
    "print('용도/월별 금액 추세 계산 중')\n",
    "\n",
    "# Seaborn 스타일 설정 및 글씨 설정\n",
    "sns.set_theme(style='whitegrid')\n",
    "plt.figure(figsize=(20, 10), dpi=300)\n",
    "plt.rcParams['font.family'] = 'NanumGothicOTF'\n",
    "\n",
    "# 사용일자에서 '월' 변수를 추출하여 추가\n",
    "df['사용일자'] = pd.to_datetime(df['사용일자'])  # 사용일자를 datetime 형식으로 변환\n",
    "df['월'] = df['사용일자'].dt.to_period('M')  # '월' 변수 생성 (YYYY-MM 형태)\n",
    "\n",
    "# 2023년까지의 데이터만 필터링\n",
    "df_filtered = df[df['사용일자'] <= '2023-12-31']  # 2023년까지 데이터 선택\n",
    "\n",
    "# 금액 추세 수치 계산\n",
    "monthly_trend = df_filtered.groupby(['월', '용도'])['사용금액'].sum().reset_index()\n",
    "trend_pivot = monthly_trend.pivot(index='월', columns='용도', values='사용금액').fillna(0)\n",
    "trend_pivot.index = trend_pivot.index.to_timestamp().strftime('%Y-%m')  # Timestamp → 'YYYY-MM' 형태 변환\n",
    "\n",
    "# 각 용도별 총 사용 금액 계산\n",
    "total_usage_by_type = trend_pivot.sum(axis=0)\n",
    "\n",
    "# 총 사용 금액이 가장 많은 상위 5개의 용도 선택\n",
    "top_5_usage_types = total_usage_by_type.nlargest(5).index\n",
    "\n",
    "# 상위 5개의 용도만 필터링\n",
    "filtered_trend_pivot = trend_pivot[top_5_usage_types]\n",
    "\n",
    "# Seaborn 라인 차트 생성\n",
    "for usage_type in filtered_trend_pivot.columns:\n",
    "    sns.lineplot(x=filtered_trend_pivot.index, y=filtered_trend_pivot[usage_type], marker='o', label=usage_type)\n",
    "\n",
    "# 제목 및 레이블 설정\n",
    "plt.title('월별 용도별 사용금액 추세 (Top 5)', fontsize=16, fontweight='bold')\n",
    "plt.xlabel('월', fontsize=14, fontweight='bold')\n",
    "plt.ylabel('사용금액', fontsize=14, fontweight='bold')\n",
    "\n",
    "# y축 금액 포맷을 일반 숫자 형식으로 변경 (콤마 포함)\n",
    "ax = plt.gca()  # 현재 축 가져오기\n",
    "\n",
    "# FuncFormatter를 사용하여 금액을 콤마로 구분된 형식으로 변경\n",
    "ax.yaxis.set_major_formatter(ticker.FuncFormatter(lambda x, _: f'{int(x):,}'))\n",
    "\n",
    "# x축 레이블 간격을 조정하고 레이블을 45도 회전\n",
    "plt.xticks(rotation=45, ha='right')  # ha='right'는 레이블을 오른쪽에 정렬\n",
    "\n",
    "# Legend를 그래프 밖으로 위치 조정\n",
    "plt.legend(bbox_to_anchor=(1.05, 1), loc='upper left', borderaxespad=0, fontsize=14)\n",
    "\n",
    "# 그리드 추가\n",
    "plt.grid(True)\n",
    "\n",
    "# 그래프 저장\n",
    "line_chart_path = os.path.join(company_result_root, '결과2_용도 및 월별 추세.png')\n",
    "plt.tight_layout()\n",
    "plt.savefig(line_chart_path, bbox_inches='tight')\n",
    "plt.close()\n",
    "\n",
    "print('용도 및 월별 금액 추세 그래프 (2023년까지) 저장 완료')"
   ]
  },
  {
   "cell_type": "markdown",
   "metadata": {},
   "source": [
    "#### **3) 매입(카드/페이) : 비용 적정성 결과**"
   ]
  },
  {
   "cell_type": "code",
   "execution_count": 32,
   "metadata": {},
   "outputs": [
    {
     "name": "stdout",
     "output_type": "stream",
     "text": [
      "전월 대비 비용 적정성 계산 중\n",
      "전월 대비 비용 적정성 결과 저장 완료\n"
     ]
    }
   ],
   "source": [
    "# 분석 3 : 용도별 전월 대비 비용 적정성 분석 결과\n",
    "print('전월 대비 비용 적정성 계산 중')\n",
    "\n",
    "# 금액 추세 수치 계산\n",
    "monthly_trend = df_filtered.groupby(['월', '용도'])['사용금액'].sum().reset_index()\n",
    "trend_pivot = monthly_trend.pivot(index='월', columns='용도', values='사용금액').fillna(0)\n",
    "trend_pivot.index = trend_pivot.index.to_timestamp().strftime('%Y-%m')  # Timestamp → 'YYYY-MM' 형태 변환\n",
    "\n",
    "# 전월 대비 이번 달의 적정성 평가\n",
    "comparison_results = pd.DataFrame()\n",
    "\n",
    "# 첫 달은 비교 없이 그대로 금액을 표시\n",
    "first_month_result = pd.DataFrame(trend_pivot.iloc[0].apply(lambda x: f'{int(x):,}')).T\n",
    "first_month_result.index = [trend_pivot.index[0]]\n",
    "comparison_results = pd.concat([comparison_results, first_month_result], ignore_index=False)\n",
    "\n",
    "for k in range(1, len(trend_pivot)):  # 첫 달 이후 달부터 평가\n",
    "    last_month = trend_pivot.iloc[k - 1]  # 전월 데이터\n",
    "    current_month = trend_pivot.iloc[k]  # 이번 달 데이터\n",
    "    comparison = current_month - last_month  # 전월과의 차이 계산\n",
    "    \n",
    "    # 적정성 평가\n",
    "    comparison_eval = comparison.apply(\n",
    "        lambda x: '낮음' if x < 0 else ('높음' if x > 0 else '보통')  # 전월 대비 적정성 평가\n",
    "    )\n",
    "    \n",
    "    # '비용 적정성(변동액)' 형태로 정리\n",
    "    result_with_values = comparison_eval + '(' + comparison.fillna(0).round(0).astype(int).apply(lambda x: f'{x:,}') + ')'\n",
    "    \n",
    "    # 결과 정리\n",
    "    monthly_result = pd.DataFrame(result_with_values).T\n",
    "    monthly_result.index = [trend_pivot.index[k]]\n",
    "    comparison_results = pd.concat([comparison_results, monthly_result], ignore_index=False)\n",
    "\n",
    "# 엑셀 저장 경로\n",
    "output_file = os.path.join(company_result_root, '결과3_전월 대비 비용 적정성 결과.xlsx')\n",
    "\n",
    "# Excel 파일 생성\n",
    "wb = Workbook()\n",
    "ws = wb.active\n",
    "ws.title = \"전월 대비 비용 적정성 분석 결과\"\n",
    "\n",
    "# 첫 번째 행에 열 제목을 입력\n",
    "ws.append(['날짜'] + list(comparison_results.columns))\n",
    "\n",
    "# 데이터프레임을 엑셀 시트로 전송\n",
    "for r_idx, row in enumerate(dataframe_to_rows(comparison_results, index=True, header=True), 1):\n",
    "    for c_idx, value in enumerate(row, 1):\n",
    "        ws.cell(row=r_idx, column=c_idx, value=value)\n",
    "        \n",
    "        # 첫 번째 달(첫 행)에는 색상을 부여하지 않음\n",
    "        if r_idx > 1 and c_idx > 1 and isinstance(value, str):  # 첫 번째 행과 열은 제외하고 색상 설정\n",
    "            if '(' in value:  # 괄호가 있는지 확인\n",
    "                eval_text = value.split('(')[0]  # \"낮음\", \"보통\", \"높음\" 추출\n",
    "                number_value = value.split('(')[1].replace(')', '')  # 금액 부분만 추출\n",
    "                \n",
    "                if eval_text == '낮음':\n",
    "                    ws.cell(row=r_idx, column=c_idx, value=number_value).fill = PatternFill(start_color=\"32CD32\", end_color=\"32CD32\", fill_type=\"solid\")  # Limegreen\n",
    "                elif eval_text == '보통':\n",
    "                    ws.cell(row=r_idx, column=c_idx, value=number_value).fill = PatternFill(start_color=\"FFD700\", end_color=\"FFD700\", fill_type=\"solid\")  # Gold\n",
    "                elif eval_text == '높음':\n",
    "                    ws.cell(row=r_idx, column=c_idx, value=number_value).fill = PatternFill(start_color=\"FF6347\", end_color=\"FF6347\", fill_type=\"solid\")  # Tomato\n",
    "\n",
    "# 엑셀 파일 저장\n",
    "wb.save(output_file)\n",
    "print(\"전월 대비 비용 적정성 결과 저장 완료\")"
   ]
  },
  {
   "cell_type": "markdown",
   "metadata": {},
   "source": [
    "#### **4) 매입(카드/페이) : 향후 추세 분석/예측 결과**"
   ]
  },
  {
   "cell_type": "code",
   "execution_count": 34,
   "metadata": {},
   "outputs": [
    {
     "name": "stdout",
     "output_type": "stream",
     "text": [
      "향후 12개월 추세 예측 및 위험도 평가 실행 중\n"
     ]
    },
    {
     "name": "stderr",
     "output_type": "stream",
     "text": [
      "Forecasting:   0%|          | 0/15 [00:00<?, ?it/s]"
     ]
    },
    {
     "name": "stdout",
     "output_type": "stream",
     "text": [
      "가지급금 출금: 예측 건너뜀 (0 값 비율 = 94.44%)\n",
      "기타비용: 예측 건너뜀 (0 값 비율 = 63.89%)\n",
      "도서인쇄비: 예측 건너뜀 (0 값 비율 = 22.22%)\n",
      "보험료: 예측 건너뜀 (0 값 비율 = 77.78%)\n",
      "----------------------------------------------\n",
      "복리후생비: LSTM Model 사용\n",
      "복리후생비 MAPE: 21.29%\n"
     ]
    },
    {
     "name": "stderr",
     "output_type": "stream",
     "text": [
      "Forecasting:  33%|███▎      | 5/15 [00:08<00:16,  1.61s/it]"
     ]
    },
    {
     "name": "stdout",
     "output_type": "stream",
     "text": [
      "----------------------------------------------\n",
      "----------------------------------------------\n",
      "소모품비: LSTM Model 사용\n",
      "소모품비 MAPE: 27.00%\n"
     ]
    },
    {
     "name": "stderr",
     "output_type": "stream",
     "text": [
      "Forecasting:  40%|████      | 6/15 [00:15<00:26,  2.91s/it]"
     ]
    },
    {
     "name": "stdout",
     "output_type": "stream",
     "text": [
      "----------------------------------------------\n",
      "여비교통비: 예측 건너뜀 (0 값 비율 = 83.33%)\n",
      "운반비: 예측 건너뜀 (0 값 비율 = 80.56%)\n",
      "자재비: 예측 건너뜀 (0 값 비율 = 88.89%)\n",
      "접대비: 예측 건너뜀 (0 값 비율 = 77.78%)\n",
      "----------------------------------------------\n",
      "지급수수료: LSTM Model 사용\n",
      "지급수수료 MAPE: 429.03%\n"
     ]
    },
    {
     "name": "stderr",
     "output_type": "stream",
     "text": [
      "Forecasting:  73%|███████▎  | 11/15 [00:22<00:08,  2.04s/it]"
     ]
    },
    {
     "name": "stdout",
     "output_type": "stream",
     "text": [
      "----------------------------------------------\n",
      "----------------------------------------------\n",
      "차량유지비: LSTM Model 사용\n",
      "차량유지비 MAPE: 53.29%\n"
     ]
    },
    {
     "name": "stderr",
     "output_type": "stream",
     "text": [
      "Forecasting: 100%|██████████| 15/15 [00:30<00:00,  2.02s/it]"
     ]
    },
    {
     "name": "stdout",
     "output_type": "stream",
     "text": [
      "----------------------------------------------\n",
      "출장비: 예측 건너뜀 (0 값 비율 = 91.67%)\n",
      "통신비: 예측 건너뜀 (0 값 비율 = 80.56%)\n",
      "회식비: 예측 건너뜀 (0 값 비율 = 97.22%)\n",
      "예측 결과 및 위험도 분석 엑셀 저장 완료\n"
     ]
    },
    {
     "name": "stderr",
     "output_type": "stream",
     "text": [
      "\n"
     ]
    },
    {
     "data": {
      "text/plain": [
       "<Figure size 6000x3000 with 0 Axes>"
      ]
     },
     "metadata": {},
     "output_type": "display_data"
    }
   ],
   "source": [
    "# 경고 무시 설정\n",
    "warnings.filterwarnings(\"ignore\", category=FutureWarning)\n",
    "\n",
    "# Seaborn 스타일 설정 및 글씨 설정\n",
    "sns.set_theme(style='whitegrid')\n",
    "plt.figure(figsize=(20, 10), dpi=300)\n",
    "plt.rcParams['font.family'] = 'NanumGothicOTF'\n",
    "\n",
    "# 분석 4 : 미래 12개월 금액 추세 예측 결과(LSTM + MAPE 평가)\n",
    "print('향후 12개월 추세 예측 및 위험도 평가 실행 중')\n",
    "forecast_results = {} # 추세 예측 결과\n",
    "risk_eval_results = {} # 위험도 평가 결과\n",
    "mape_results = {}  # MAPE 평가 결과\n",
    "forecast_plots = {} # 용도별 예측 그래프 경로\n",
    "\n",
    "for col in tqdm(trend_pivot.columns, desc='Forecasting'):\n",
    "    if len(trend_pivot[col].dropna()) < 3:  # 예측 시도 전에 데이터 길이 체크\n",
    "        print(f'예측 불가 : {col} → 데이터가 3개 미만')\n",
    "        forecast_results[col] = pd.Series([None] * 12)  # 예측 불가\n",
    "        risk_eval_results[col] = [None] * 12  # 예측 불가\n",
    "        mape_results[col] = None  # MAPE 계산 불가\n",
    "        continue\n",
    "    \n",
    "    # 0 값 비율 계산\n",
    "    zero_ratio = (trend_pivot[col] == 0).mean()\n",
    "    \n",
    "    # 0 값 비율이 10%를 넘으면 예측을 건너뜀\n",
    "    if zero_ratio > 0.1:  # 10% 이상 0이면 예측 건너뛰기\n",
    "        print(f'{col}: 예측 건너뜀 (0 값 비율 = {zero_ratio:.2%})')\n",
    "        forecast_results[col] = pd.Series([None] * 12)  # 예측 불가\n",
    "        risk_eval_results[col] = [None] * 12  # 예측 불가\n",
    "        mape_results[col] = None  # MAPE 계산 불가\n",
    "        continue\n",
    "\n",
    "    try:\n",
    "        # LSTM 모델 적용\n",
    "        print('----------------------------------------------')\n",
    "        print(f'{col}: LSTM Model 사용')\n",
    "        forecast = lstm_forecast(trend_pivot[col].dropna(), steps=12)\n",
    "        \n",
    "        # 예측 결과 저장\n",
    "        forecast_results[col] = forecast\n",
    "        \n",
    "        # MAPE 계산 (마지막 12개월의 실제 값과 비교)\n",
    "        actual_values = trend_pivot[col].dropna()[-12:]\n",
    "        if len(actual_values) == 12:\n",
    "            mape = calculate_mape(actual_values, forecast)\n",
    "            mape_results[col] = mape\n",
    "            print(f'{col} MAPE: {mape:.2f}%')\n",
    "        else:\n",
    "            print(f'{col} MAPE 계산 불가: 데이터가 충분하지 않음')\n",
    "            mape_results[col] = None\n",
    "        \n",
    "        # 인덱스를 명시적으로 날짜로 변환 (tz 오류 해결)\n",
    "        trend_pivot.index = pd.to_datetime(trend_pivot.index, format='%Y-%m')\n",
    "        \n",
    "        # Seaborn lineplot을 사용하여 실제값과 예측값 그리기\n",
    "        plt.figure(figsize=(20, 10), dpi=300)  # 모든 그래프의 크기를 동일하게 설정\n",
    "        sns.lineplot(x=trend_pivot.index, y=trend_pivot[col], label='실제값', marker='o', color='blue')\n",
    "        sns.lineplot(x=pd.date_range(start=trend_pivot.index[-1], periods=12, freq='M'), y=forecast, label='예측값 (LSTM Model)', linestyle='--', marker='x', color='red')\n",
    "\n",
    "        # 제목 및 레이블 설정\n",
    "        plt.title(f'{col} 향후 12개월 예상 금액', fontsize=16, fontweight='bold')\n",
    "        plt.xlabel('날짜', fontsize=14, fontweight='bold')\n",
    "        plt.ylabel('금액', fontsize=14, fontweight='bold')\n",
    "\n",
    "        # y축 금액 포맷을 일반 숫자 형식으로 변경 (콤마 포함)\n",
    "        ax = plt.gca()  # 현재 축 가져오기\n",
    "\n",
    "        # FuncFormatter를 사용하여 금액을 콤마로 구분된 형식으로 변경\n",
    "        ax.yaxis.set_major_formatter(ticker.FuncFormatter(lambda x, _: f'{int(x):,}'))\n",
    "        \n",
    "        # y축의 값을 0부터 시작하도록 설정\n",
    "        plt.ylim(bottom=0)\n",
    "\n",
    "        # x축 레이블 간격을 조정하고 레이블을 45도 회전\n",
    "        plt.xticks(rotation=45, ha='right')  # ha='right'는 레이블을 오른쪽에 정렬\n",
    "\n",
    "        # Legend를 그래프 밖으로 위치 조정\n",
    "        plt.legend(bbox_to_anchor=(1.05, 1), loc='upper left', borderaxespad=0, fontsize=14)\n",
    "\n",
    "        # 그래프 저장\n",
    "        forecast_plot_path = os.path.join(company_result_root, f'결과4_용도 {col} 예측 그래프.png')\n",
    "        plt.tight_layout()\n",
    "        plt.savefig(forecast_plot_path)\n",
    "        plt.close()\n",
    "        \n",
    "        # 그래프 경로 저장\n",
    "        forecast_plots[col] = forecast_plot_path\n",
    "        \n",
    "    except Exception as e:\n",
    "        # 예측 실패 시 None 값 처리\n",
    "        print(f'예측 오류 {col}: {e}')\n",
    "        forecast_results[col] = pd.Series([None] * 12)\n",
    "        risk_eval_results[col] = [None] * 12\n",
    "        mape_results[col] = None\n",
    "    \n",
    "    print('----------------------------------------------')\n",
    "\n",
    "# 예측 결과 + 위험도 평가 + MAPE 결과 정리\n",
    "forecast_df = pd.DataFrame(forecast_results)\n",
    "start_date = df['사용일자'].max()\n",
    "forecast_df.index = pd.date_range(start=start_date, periods=12, freq='M')\n",
    "forecast_df.index = forecast_df.index.strftime('%Y-%m')  # Index 'yyyy-mm' 형태 변환\n",
    "\n",
    "# MAPE 결과 추가\n",
    "mape_df = pd.DataFrame(mape_results, index=[0])\n",
    "mape_df.index = ['MAPE']\n",
    "\n",
    "# 예측 결과 + MAPE 평가 취합 및 정렬\n",
    "forecast_combined_df = pd.concat([forecast_df, mape_df], axis=0)\n",
    "\n",
    "# 엑셀 저장 경로 설정\n",
    "output_file = os.path.join(company_result_root, '결과4_추세 예측 결과.xlsx')\n",
    "\n",
    "# Excel 파일 생성 및 저장\n",
    "wb = Workbook()\n",
    "ws = wb.active\n",
    "ws.title = \"예측 결과\"\n",
    "\n",
    "# 첫 번째 행에 열 제목을 입력\n",
    "ws.append(['날짜'] + list(forecast_combined_df.columns))\n",
    "\n",
    "# 데이터프레임을 엑셀 시트로 전송 및 색상 적용\n",
    "for r_idx, row in enumerate(forecast_combined_df.itertuples(), 1):\n",
    "    for c_idx, value in enumerate(row, 0):  # 0에서 시작하여 열을 일치시킴\n",
    "        if c_idx == 0:\n",
    "            # 첫 번째 열에 날짜를 입력\n",
    "            ws.cell(row=r_idx + 1, column=1, value=forecast_combined_df.index[r_idx - 1])\n",
    "        else:\n",
    "            # 나머지 열에 값 입력\n",
    "            ws.cell(row=r_idx + 1, column=c_idx + 1, value=value)\n",
    "\n",
    "            # MAPE 행에는 색상을 적용하지 않음\n",
    "            if forecast_combined_df.index[r_idx - 1] != 'MAPE' and pd.notna(value):\n",
    "                # 과거 평균값과 비교하여 색상 적용\n",
    "                col_name = forecast_combined_df.columns[c_idx - 1]  # c_idx-1로 수정하여 열을 올바르게 참조\n",
    "                \n",
    "                # 예측하기 직전 달까지의 평균값 계산 (MAPE와 현재 행을 제외한 값들로 평균 계산)\n",
    "                avg_past = trend_pivot[col_name].mean()\n",
    "\n",
    "                # 값이 평균보다 작으면 초록색, 크면 빨간색, 비슷하면 주황색\n",
    "                if value < avg_past:\n",
    "                    ws.cell(row=r_idx + 1, column=c_idx + 1).fill = PatternFill(start_color=\"32CD32\", end_color=\"32CD32\", fill_type=\"solid\")  # Limegreen\n",
    "                elif value > avg_past:\n",
    "                    ws.cell(row=r_idx + 1, column=c_idx + 1).fill = PatternFill(start_color=\"FF6347\", end_color=\"FF6347\", fill_type=\"solid\")  # Tomato\n",
    "                else:\n",
    "                    ws.cell(row=r_idx + 1, column=c_idx + 1).fill = PatternFill(start_color=\"FFD700\", end_color=\"FFD700\", fill_type=\"solid\")  # Gold\n",
    "\n",
    "# 엑셀 파일 저장\n",
    "wb.save(output_file)\n",
    "print(\"예측 결과 및 위험도 분석 엑셀 저장 완료\")"
   ]
  },
  {
   "cell_type": "markdown",
   "metadata": {},
   "source": [
    "---"
   ]
  },
  {
   "cell_type": "markdown",
   "metadata": {},
   "source": [
    "#### **3. 매입(현금영수증) Data Load**"
   ]
  },
  {
   "cell_type": "code",
   "execution_count": 37,
   "metadata": {},
   "outputs": [
    {
     "name": "stdout",
     "output_type": "stream",
     "text": [
      "               사용일시  증빙    사용금액   용도  프로젝트/현장             비고  메모\n",
      "0  2022-01-07 13:24  현영  440000  임차료      NaN  2022-01-10 계좌 NaN\n",
      "1  2021-12-07 12:14  현영  440000  임차료      NaN  2021-12-10 계좌 NaN\n",
      "2  2021-11-09 22:44  현영  440000  임차료      NaN  2021-11-10 계좌 NaN\n",
      "3  2021-10-07 17:06  현영  440000  임차료      NaN  2021-10-08 계좌 NaN\n",
      "4  2021-09-07 23:12  현영  440000  임차료      NaN  2021-09-10 계좌 NaN\n"
     ]
    }
   ],
   "source": [
    "# '매입(현금영수증)' 파일명 검색\n",
    "file_name = [file for file in os.listdir() if '매입(현금영수증)' in file]  # 매입(현금영수증) 파일 1개\n",
    "\n",
    "# 파일 존재 여부 확인\n",
    "if len(file_name) > 0:\n",
    "    # Data Frame\n",
    "    df = pd.read_excel(file_name[0], skiprows=1)\n",
    "    # Data Frame Head\n",
    "    df_without_account = df.drop(columns=['발급수단', '내용'])\n",
    "    print(df_without_account.head())\n",
    "else:\n",
    "    # 파일 없음 오류 문구\n",
    "    print(\"매입(현금영수증) 파일이 없습니다.\")"
   ]
  },
  {
   "cell_type": "code",
   "execution_count": 38,
   "metadata": {},
   "outputs": [],
   "source": [
    "# 회사명에 따른 결과물 저장 경로\n",
    "result_root = os.path.join(root, 'Model(2nd)')\n",
    "company_result_root = os.path.join(result_root, company_name, '3_매입(현금영수증)')\n",
    "if not os.path.isdir(company_result_root):\n",
    "    os.makedirs(company_result_root)"
   ]
  },
  {
   "cell_type": "markdown",
   "metadata": {},
   "source": [
    "#### **1) 매입(현금영수증) : 비율 수치 & Graph**"
   ]
  },
  {
   "cell_type": "code",
   "execution_count": 39,
   "metadata": {},
   "outputs": [
    {
     "name": "stdout",
     "output_type": "stream",
     "text": [
      "용도별 비율 계산 중\n",
      "----------------------------------------------\n",
      "    용도       사용금액     비율\n",
      "0  임차료  5,720,000  100.0\n",
      "----------------------------------------------\n",
      "용도별 비율 표 Excel 저장 완료\n"
     ]
    }
   ],
   "source": [
    "# 1) 용도별 비율 수치 계산\n",
    "print('용도별 비율 계산 중')\n",
    "usage_summary = df.groupby('용도')['사용금액'].sum().reset_index()  # '사용금액'\n",
    "usage_summary['비율'] = round((usage_summary['사용금액'] / usage_summary['사용금액'].sum()) * 100, 3)\n",
    "\n",
    "# '사용금액' 열에 콤마를 추가한 형식으로 변환\n",
    "usage_summary['사용금액'] = usage_summary['사용금액'].apply(lambda x: f'{int(x):,}')\n",
    "\n",
    "print('----------------------------------------------')\n",
    "print(usage_summary)\n",
    "print('----------------------------------------------')\n",
    "\n",
    "# 결과물 최종 경로\n",
    "output_file = os.path.join(company_result_root, '결과1_용도 비율 표.xlsx')\n",
    "\n",
    "# 엑셀 파일로 저장\n",
    "usage_summary.to_excel(output_file, index=False)\n",
    "print('용도별 비율 표 Excel 저장 완료')"
   ]
  },
  {
   "cell_type": "code",
   "execution_count": 40,
   "metadata": {},
   "outputs": [
    {
     "name": "stdout",
     "output_type": "stream",
     "text": [
      "용도별 비율 그래프 저장 완료\n"
     ]
    }
   ],
   "source": [
    "# 2) 3% 이상인 항목만 그래프에 표시 (표에는 모두 포함)\n",
    "filtered_data = usage_summary[usage_summary['비율'] >= 3]\n",
    "\n",
    "# Seaborn 스타일 설정 및 글씨 설정\n",
    "sns.set_theme(style='whitegrid')\n",
    "plt.figure(figsize=(10, 6), dpi=300)\n",
    "plt.rcParams['font.family'] = 'NanumGothicOTF' # 'NanumGothic' or 'NanumGothicOTF'\n",
    "\n",
    "# 컬러맵 설정\n",
    "cmap = plt.get_cmap('tab20')\n",
    "colors = [cmap(i / len(filtered_data)) for i in range(len(filtered_data))]\n",
    "\n",
    "# Seaborn을 사용한 barplot 생성\n",
    "bar_plot = sns.barplot(x='비율', y='용도', data=filtered_data,\n",
    "                       hue='용도', palette='tab20', dodge=False, legend=False)\n",
    "\n",
    "# 제목 및 레이블 설정에 폰트 적용\n",
    "bar_plot.set_title('용도별 사용금액 비율 (3% 이상만 표시)', fontsize=16, fontweight='bold')\n",
    "bar_plot.set_xlabel('비율 (%)', fontsize=14, fontweight='bold')\n",
    "bar_plot.set_ylabel('용도', fontsize=14, fontweight='bold')\n",
    "\n",
    "# 막대마다 비율(%) 수치 표시\n",
    "for index, value in enumerate(filtered_data['비율']):\n",
    "    plt.text(value + 0.5, index, f'{value:.1f}%', va='center', fontsize=12, color='black')  # 수치를 막대 옆에 표시\n",
    "\n",
    "# 그래프 저장\n",
    "graph_path = os.path.join(company_result_root, '결과1_용도 비율 그래프.png')\n",
    "plt.tight_layout()\n",
    "plt.savefig(graph_path)\n",
    "plt.close()\n",
    "\n",
    "print('용도별 비율 그래프 저장 완료')"
   ]
  },
  {
   "cell_type": "markdown",
   "metadata": {},
   "source": [
    "#### **2) 매입(현금영수증) : 월별 추세 수치 & Graph**"
   ]
  },
  {
   "cell_type": "code",
   "execution_count": 41,
   "metadata": {},
   "outputs": [
    {
     "name": "stdout",
     "output_type": "stream",
     "text": [
      "용도/월별 금액 추세 계산 중\n",
      "용도 및 월별 금액 추세 그래프 (2023년까지) 저장 완료\n"
     ]
    }
   ],
   "source": [
    "# 분석 2 : 용도/월(Month)별 금액 추세 수치 + Graph\n",
    "print('용도/월별 금액 추세 계산 중')\n",
    "\n",
    "# Seaborn 스타일 설정 및 글씨 설정\n",
    "sns.set_theme(style='whitegrid')\n",
    "plt.figure(figsize=(20, 10), dpi=300)\n",
    "plt.rcParams['font.family'] = 'NanumGothicOTF'\n",
    "\n",
    "# 사용일시에서 '월' 변수를 추출하여 추가\n",
    "df['사용일시'] = pd.to_datetime(df['사용일시'])  # 사용일시를 datetime 형식으로 변환\n",
    "df['월'] = df['사용일시'].dt.to_period('M')  # '월' 변수 생성 (YYYY-MM 형태)\n",
    "\n",
    "# 2023년까지의 데이터만 필터링\n",
    "df_filtered = df[df['사용일시'] <= '2023-12-31']  # 2023년까지 데이터 선택\n",
    "\n",
    "# 금액 추세 수치 계산\n",
    "monthly_trend = df_filtered.groupby(['월', '용도'])['사용금액'].sum().reset_index()\n",
    "trend_pivot = monthly_trend.pivot(index='월', columns='용도', values='사용금액').fillna(0)\n",
    "trend_pivot.index = trend_pivot.index.to_timestamp().strftime('%Y-%m')  # Timestamp → 'YYYY-MM' 형태 변환\n",
    "\n",
    "# 각 용도별 총 사용 금액 계산\n",
    "total_usage_by_type = trend_pivot.sum(axis=0)\n",
    "\n",
    "# 총 사용 금액이 가장 많은 상위 5개의 용도 선택\n",
    "top_5_usage_types = total_usage_by_type.nlargest(5).index\n",
    "\n",
    "# 상위 5개의 용도만 필터링\n",
    "filtered_trend_pivot = trend_pivot[top_5_usage_types]\n",
    "\n",
    "# Seaborn 라인 차트 생성\n",
    "for usage_type in filtered_trend_pivot.columns:\n",
    "    sns.lineplot(x=filtered_trend_pivot.index, y=filtered_trend_pivot[usage_type], marker='o', label=usage_type)\n",
    "\n",
    "# 제목 및 레이블 설정\n",
    "plt.title('월별 용도별 사용금액 추세 (Top 5)', fontsize=16, fontweight='bold')\n",
    "plt.xlabel('월', fontsize=14, fontweight='bold')\n",
    "plt.ylabel('사용금액', fontsize=14, fontweight='bold')\n",
    "\n",
    "# y축 금액 포맷을 일반 숫자 형식으로 변경 (콤마 포함)\n",
    "ax = plt.gca()  # 현재 축 가져오기\n",
    "\n",
    "# FuncFormatter를 사용하여 금액을 콤마로 구분된 형식으로 변경\n",
    "ax.yaxis.set_major_formatter(ticker.FuncFormatter(lambda x, _: f'{int(x):,}'))\n",
    "\n",
    "# x축 레이블 간격을 조정하고 레이블을 45도 회전\n",
    "plt.xticks(rotation=45, ha='right')  # ha='right'는 레이블을 오른쪽에 정렬\n",
    "\n",
    "# Legend를 그래프 밖으로 위치 조정\n",
    "plt.legend(bbox_to_anchor=(1.05, 1), loc='upper left', borderaxespad=0, fontsize=14)\n",
    "\n",
    "# 그리드 추가\n",
    "plt.grid(True)\n",
    "\n",
    "# 그래프 저장\n",
    "line_chart_path = os.path.join(company_result_root, '결과2_용도 및 월별 추세.png')\n",
    "plt.tight_layout()\n",
    "plt.savefig(line_chart_path, bbox_inches='tight')\n",
    "plt.close()\n",
    "\n",
    "print('용도 및 월별 금액 추세 그래프 (2023년까지) 저장 완료')"
   ]
  },
  {
   "cell_type": "markdown",
   "metadata": {},
   "source": [
    "#### **3) 매입(현금영수증) : 비용 적정성 결과**"
   ]
  },
  {
   "cell_type": "code",
   "execution_count": 42,
   "metadata": {},
   "outputs": [
    {
     "name": "stdout",
     "output_type": "stream",
     "text": [
      "전월 대비 비용 적정성 계산 중\n",
      "전월 대비 비용 적정성 결과 저장 완료\n"
     ]
    }
   ],
   "source": [
    "# 분석 3 : 용도별 전월 대비 비용 적정성 분석 결과\n",
    "print('전월 대비 비용 적정성 계산 중')\n",
    "\n",
    "# 금액 추세 수치 계산\n",
    "monthly_trend = df_filtered.groupby(['월', '용도'])['사용금액'].sum().reset_index()\n",
    "trend_pivot = monthly_trend.pivot(index='월', columns='용도', values='사용금액').fillna(0)\n",
    "trend_pivot.index = trend_pivot.index.to_timestamp().strftime('%Y-%m')  # Timestamp → 'YYYY-MM' 형태 변환\n",
    "\n",
    "# 전월 대비 이번 달의 적정성 평가\n",
    "comparison_results = pd.DataFrame()\n",
    "\n",
    "# 첫 달은 비교 없이 그대로 금액을 표시\n",
    "first_month_result = pd.DataFrame(trend_pivot.iloc[0].apply(lambda x: f'{int(x):,}')).T\n",
    "first_month_result.index = [trend_pivot.index[0]]\n",
    "comparison_results = pd.concat([comparison_results, first_month_result], ignore_index=False)\n",
    "\n",
    "for k in range(1, len(trend_pivot)):  # 첫 달 이후 달부터 평가\n",
    "    last_month = trend_pivot.iloc[k - 1]  # 전월 데이터\n",
    "    current_month = trend_pivot.iloc[k]  # 이번 달 데이터\n",
    "    comparison = current_month - last_month  # 전월과의 차이 계산\n",
    "    \n",
    "    # 적정성 평가\n",
    "    comparison_eval = comparison.apply(\n",
    "        lambda x: '낮음' if x < 0 else ('높음' if x > 0 else '보통')  # 전월 대비 적정성 평가\n",
    "    )\n",
    "    \n",
    "    # '비용 적정성(변동액)' 형태로 정리\n",
    "    result_with_values = comparison_eval + '(' + comparison.fillna(0).round(0).astype(int).apply(lambda x: f'{x:,}') + ')'\n",
    "    \n",
    "    # 결과 정리\n",
    "    monthly_result = pd.DataFrame(result_with_values).T\n",
    "    monthly_result.index = [trend_pivot.index[k]]\n",
    "    comparison_results = pd.concat([comparison_results, monthly_result], ignore_index=False)\n",
    "\n",
    "# 엑셀 저장 경로\n",
    "output_file = os.path.join(company_result_root, '결과3_전월 대비 비용 적정성 결과.xlsx')\n",
    "\n",
    "# Excel 파일 생성\n",
    "wb = Workbook()\n",
    "ws = wb.active\n",
    "ws.title = \"전월 대비 비용 적정성 분석 결과\"\n",
    "\n",
    "# 첫 번째 행에 열 제목을 입력\n",
    "ws.append(['날짜'] + list(comparison_results.columns))\n",
    "\n",
    "# 데이터프레임을 엑셀 시트로 전송\n",
    "for r_idx, row in enumerate(dataframe_to_rows(comparison_results, index=True, header=True), 1):\n",
    "    for c_idx, value in enumerate(row, 1):\n",
    "        ws.cell(row=r_idx, column=c_idx, value=value)\n",
    "        \n",
    "        # 첫 번째 달(첫 행)에는 색상을 부여하지 않음\n",
    "        if r_idx > 1 and c_idx > 1 and isinstance(value, str):  # 첫 번째 행과 열은 제외하고 색상 설정\n",
    "            if '(' in value:  # 괄호가 있는지 확인\n",
    "                eval_text = value.split('(')[0]  # \"낮음\", \"보통\", \"높음\" 추출\n",
    "                number_value = value.split('(')[1].replace(')', '')  # 금액 부분만 추출\n",
    "                \n",
    "                if eval_text == '낮음':\n",
    "                    ws.cell(row=r_idx, column=c_idx, value=number_value).fill = PatternFill(start_color=\"32CD32\", end_color=\"32CD32\", fill_type=\"solid\")  # Limegreen\n",
    "                elif eval_text == '보통':\n",
    "                    ws.cell(row=r_idx, column=c_idx, value=number_value).fill = PatternFill(start_color=\"FFD700\", end_color=\"FFD700\", fill_type=\"solid\")  # Gold\n",
    "                elif eval_text == '높음':\n",
    "                    ws.cell(row=r_idx, column=c_idx, value=number_value).fill = PatternFill(start_color=\"FF6347\", end_color=\"FF6347\", fill_type=\"solid\")  # Tomato\n",
    "\n",
    "# 엑셀 파일 저장\n",
    "wb.save(output_file)\n",
    "print(\"전월 대비 비용 적정성 결과 저장 완료\")"
   ]
  },
  {
   "cell_type": "markdown",
   "metadata": {},
   "source": [
    "#### **4) 매입(현금영수증) : 향후 추세 분석/예측 결과**"
   ]
  },
  {
   "cell_type": "code",
   "execution_count": 43,
   "metadata": {},
   "outputs": [
    {
     "name": "stdout",
     "output_type": "stream",
     "text": [
      "향후 12개월 추세 예측 및 위험도 평가 실행 중\n"
     ]
    },
    {
     "name": "stderr",
     "output_type": "stream",
     "text": [
      "Forecasting:   0%|          | 0/1 [00:00<?, ?it/s]"
     ]
    },
    {
     "name": "stdout",
     "output_type": "stream",
     "text": [
      "----------------------------------------------\n",
      "임차료: LSTM Model 사용\n",
      "임차료 MAPE: 0.00%\n"
     ]
    },
    {
     "name": "stderr",
     "output_type": "stream",
     "text": [
      "Forecasting: 100%|██████████| 1/1 [00:08<00:00,  8.44s/it]"
     ]
    },
    {
     "name": "stdout",
     "output_type": "stream",
     "text": [
      "----------------------------------------------\n",
      "예측 결과 및 위험도 분석 엑셀 저장 완료\n"
     ]
    },
    {
     "name": "stderr",
     "output_type": "stream",
     "text": [
      "\n"
     ]
    },
    {
     "data": {
      "text/plain": [
       "<Figure size 6000x3000 with 0 Axes>"
      ]
     },
     "metadata": {},
     "output_type": "display_data"
    }
   ],
   "source": [
    "# 경고 무시 설정\n",
    "warnings.filterwarnings(\"ignore\", category=FutureWarning)\n",
    "\n",
    "# Seaborn 스타일 설정 및 글씨 설정\n",
    "sns.set_theme(style='whitegrid')\n",
    "plt.figure(figsize=(20, 10), dpi=300)\n",
    "plt.rcParams['font.family'] = 'NanumGothicOTF'\n",
    "\n",
    "# 분석 4 : 미래 12개월 금액 추세 예측 결과(LSTM + MAPE 평가)\n",
    "print('향후 12개월 추세 예측 및 위험도 평가 실행 중')\n",
    "forecast_results = {} # 추세 예측 결과\n",
    "risk_eval_results = {} # 위험도 평가 결과\n",
    "mape_results = {}  # MAPE 평가 결과\n",
    "forecast_plots = {} # 용도별 예측 그래프 경로\n",
    "\n",
    "for col in tqdm(trend_pivot.columns, desc='Forecasting'):\n",
    "    if len(trend_pivot[col].dropna()) < 3:  # 예측 시도 전에 데이터 길이 체크\n",
    "        print(f'예측 불가 : {col} → 데이터가 3개 미만')\n",
    "        forecast_results[col] = pd.Series([None] * 12)  # 예측 불가\n",
    "        risk_eval_results[col] = [None] * 12  # 예측 불가\n",
    "        mape_results[col] = None  # MAPE 계산 불가\n",
    "        continue\n",
    "    \n",
    "    # 0 값 비율 계산\n",
    "    zero_ratio = (trend_pivot[col] == 0).mean()\n",
    "    \n",
    "    # 0 값 비율이 10%를 넘으면 예측을 건너뜀\n",
    "    if zero_ratio > 0.1:  # 10% 이상 0이면 예측 건너뛰기\n",
    "        print(f'{col}: 예측 건너뜀 (0 값 비율 = {zero_ratio:.2%})')\n",
    "        forecast_results[col] = pd.Series([None] * 12)  # 예측 불가\n",
    "        risk_eval_results[col] = [None] * 12  # 예측 불가\n",
    "        mape_results[col] = None  # MAPE 계산 불가\n",
    "        continue\n",
    "\n",
    "    try:\n",
    "        # LSTM 모델 적용\n",
    "        print('----------------------------------------------')\n",
    "        print(f'{col}: LSTM Model 사용')\n",
    "        forecast = lstm_forecast(trend_pivot[col].dropna(), steps=12)\n",
    "        \n",
    "        # 예측 결과 저장\n",
    "        forecast_results[col] = forecast\n",
    "        \n",
    "        # MAPE 계산 (마지막 12개월의 실제 값과 비교)\n",
    "        actual_values = trend_pivot[col].dropna()[-12:]\n",
    "        if len(actual_values) == 12:\n",
    "            mape = calculate_mape(actual_values, forecast)\n",
    "            mape_results[col] = mape\n",
    "            print(f'{col} MAPE: {mape:.2f}%')\n",
    "        else:\n",
    "            print(f'{col} MAPE 계산 불가: 데이터가 충분하지 않음')\n",
    "            mape_results[col] = None\n",
    "        \n",
    "        # 인덱스를 명시적으로 날짜로 변환 (tz 오류 해결)\n",
    "        trend_pivot.index = pd.to_datetime(trend_pivot.index, format='%Y-%m')\n",
    "        \n",
    "        # Seaborn lineplot을 사용하여 실제값과 예측값 그리기\n",
    "        plt.figure(figsize=(20, 10), dpi=300)  # 모든 그래프의 크기를 동일하게 설정\n",
    "        sns.lineplot(x=trend_pivot.index, y=trend_pivot[col], label='실제값', marker='o', color='blue')\n",
    "        sns.lineplot(x=pd.date_range(start=trend_pivot.index[-1], periods=12, freq='M'), y=forecast, label='예측값 (LSTM Model)', linestyle='--', marker='x', color='red')\n",
    "\n",
    "        # 제목 및 레이블 설정\n",
    "        plt.title(f'{col} 향후 12개월 예상 금액', fontsize=16, fontweight='bold')\n",
    "        plt.xlabel('날짜', fontsize=14, fontweight='bold')\n",
    "        plt.ylabel('금액', fontsize=14, fontweight='bold')\n",
    "\n",
    "        # y축 금액 포맷을 일반 숫자 형식으로 변경 (콤마 포함)\n",
    "        ax = plt.gca()  # 현재 축 가져오기\n",
    "\n",
    "        # FuncFormatter를 사용하여 금액을 콤마로 구분된 형식으로 변경\n",
    "        ax.yaxis.set_major_formatter(ticker.FuncFormatter(lambda x, _: f'{int(x):,}'))\n",
    "        \n",
    "        # y축의 값을 0부터 시작하도록 설정\n",
    "        plt.ylim(bottom=0)\n",
    "\n",
    "        # x축 레이블 간격을 조정하고 레이블을 45도 회전\n",
    "        plt.xticks(rotation=45, ha='right')  # ha='right'는 레이블을 오른쪽에 정렬\n",
    "\n",
    "        # Legend를 그래프 밖으로 위치 조정\n",
    "        plt.legend(bbox_to_anchor=(1.05, 1), loc='upper left', borderaxespad=0, fontsize=14)\n",
    "\n",
    "        # 그래프 저장\n",
    "        forecast_plot_path = os.path.join(company_result_root, f'결과4_용도 {col} 예측 그래프.png')\n",
    "        plt.tight_layout()\n",
    "        plt.savefig(forecast_plot_path)\n",
    "        plt.close()\n",
    "        \n",
    "        # 그래프 경로 저장\n",
    "        forecast_plots[col] = forecast_plot_path\n",
    "        \n",
    "    except Exception as e:\n",
    "        # 예측 실패 시 None 값 처리\n",
    "        print(f'예측 오류 {col}: {e}')\n",
    "        forecast_results[col] = pd.Series([None] * 12)\n",
    "        risk_eval_results[col] = [None] * 12\n",
    "        mape_results[col] = None\n",
    "    \n",
    "    print('----------------------------------------------')\n",
    "\n",
    "# 예측 결과 + 위험도 평가 + MAPE 결과 정리\n",
    "forecast_df = pd.DataFrame(forecast_results)\n",
    "start_date = df['사용일시'].max()\n",
    "forecast_df.index = pd.date_range(start=start_date, periods=12, freq='M')\n",
    "forecast_df.index = forecast_df.index.strftime('%Y-%m')  # Index 'yyyy-mm' 형태 변환\n",
    "\n",
    "# MAPE 결과 추가\n",
    "mape_df = pd.DataFrame(mape_results, index=[0])\n",
    "mape_df.index = ['MAPE']\n",
    "\n",
    "# 예측 결과 + MAPE 평가 취합 및 정렬\n",
    "forecast_combined_df = pd.concat([forecast_df, mape_df], axis=0)\n",
    "\n",
    "# 엑셀 저장 경로 설정\n",
    "output_file = os.path.join(company_result_root, '결과4_추세 예측 결과.xlsx')\n",
    "\n",
    "# Excel 파일 생성 및 저장\n",
    "wb = Workbook()\n",
    "ws = wb.active\n",
    "ws.title = \"예측 결과\"\n",
    "\n",
    "# 첫 번째 행에 열 제목을 입력\n",
    "ws.append(['날짜'] + list(forecast_combined_df.columns))\n",
    "\n",
    "# 데이터프레임을 엑셀 시트로 전송 및 색상 적용\n",
    "for r_idx, row in enumerate(forecast_combined_df.itertuples(), 1):\n",
    "    for c_idx, value in enumerate(row, 0):  # 0에서 시작하여 열을 일치시킴\n",
    "        if c_idx == 0:\n",
    "            # 첫 번째 열에 날짜를 입력\n",
    "            ws.cell(row=r_idx + 1, column=1, value=forecast_combined_df.index[r_idx - 1])\n",
    "        else:\n",
    "            # 나머지 열에 값 입력\n",
    "            ws.cell(row=r_idx + 1, column=c_idx + 1, value=value)\n",
    "\n",
    "            # MAPE 행에는 색상을 적용하지 않음\n",
    "            if forecast_combined_df.index[r_idx - 1] != 'MAPE' and pd.notna(value):\n",
    "                # 과거 평균값과 비교하여 색상 적용\n",
    "                col_name = forecast_combined_df.columns[c_idx - 1]  # c_idx-1로 수정하여 열을 올바르게 참조\n",
    "                \n",
    "                # 예측하기 직전 달까지의 평균값 계산 (MAPE와 현재 행을 제외한 값들로 평균 계산)\n",
    "                avg_past = trend_pivot[col_name].mean()\n",
    "\n",
    "                # 값이 평균보다 작으면 초록색, 크면 빨간색, 비슷하면 주황색\n",
    "                if value < avg_past:\n",
    "                    ws.cell(row=r_idx + 1, column=c_idx + 1).fill = PatternFill(start_color=\"32CD32\", end_color=\"32CD32\", fill_type=\"solid\")  # Limegreen\n",
    "                elif value > avg_past:\n",
    "                    ws.cell(row=r_idx + 1, column=c_idx + 1).fill = PatternFill(start_color=\"FF6347\", end_color=\"FF6347\", fill_type=\"solid\")  # Tomato\n",
    "                else:\n",
    "                    ws.cell(row=r_idx + 1, column=c_idx + 1).fill = PatternFill(start_color=\"FFD700\", end_color=\"FFD700\", fill_type=\"solid\")  # Gold\n",
    "\n",
    "# 엑셀 파일 저장\n",
    "wb.save(output_file)\n",
    "print(\"예측 결과 및 위험도 분석 엑셀 저장 완료\")"
   ]
  },
  {
   "cell_type": "markdown",
   "metadata": {},
   "source": [
    "---"
   ]
  },
  {
   "cell_type": "markdown",
   "metadata": {},
   "source": [
    "#### **4. 매입(간이영수증) Data Load**"
   ]
  },
  {
   "cell_type": "code",
   "execution_count": 44,
   "metadata": {},
   "outputs": [
    {
     "name": "stdout",
     "output_type": "stream",
     "text": [
      "          사용일시  증빙      사용금액  용도  프로젝트/현장  비고   메모\n",
      "7   2023-12-31  경비  12500000  급여      NaN NaN  NaN\n",
      "8   2023-11-30  경비  12500000  급여      NaN NaN  NaN\n",
      "9   2023-10-31  경비  12500000  급여      NaN NaN  NaN\n",
      "10  2023-09-30  경비  13400000  급여      NaN NaN  NaN\n",
      "11  2023-08-31  경비  12500000  급여      NaN NaN  NaN\n"
     ]
    }
   ],
   "source": [
    "# '매입(간이영수증)' 파일명 검색\n",
    "file_name = [file for file in os.listdir() if '매입(간이영수증)' in file]  # 매입(간이영수증) 파일 1개\n",
    "\n",
    "# 파일 존재 여부 확인\n",
    "if len(file_name) > 0:\n",
    "    # Data Frame\n",
    "    df = pd.read_excel(file_name[0], skiprows=1)\n",
    "    # Data Frame Head(2023)\n",
    "    df_without_account = df.drop(columns=['사용처', '내용'])\n",
    "    print(df_without_account[df_without_account['사용일시'].str.contains('2023')].head())\n",
    "else:\n",
    "    # 파일 없음 오류 문구\n",
    "    print(\"매입(간이영수증) 파일이 없습니다.\")"
   ]
  },
  {
   "cell_type": "code",
   "execution_count": 45,
   "metadata": {},
   "outputs": [],
   "source": [
    "# 회사명에 따른 결과물 저장 경로\n",
    "result_root = os.path.join(root, 'Model(2nd)')\n",
    "company_result_root = os.path.join(result_root, company_name, '4_매입(간이영수증)')\n",
    "if not os.path.isdir(company_result_root):\n",
    "    os.makedirs(company_result_root)"
   ]
  },
  {
   "cell_type": "markdown",
   "metadata": {},
   "source": [
    "#### **1) 매입(간이영수증) : 비율 수치 & Graph**"
   ]
  },
  {
   "cell_type": "code",
   "execution_count": 46,
   "metadata": {},
   "outputs": [
    {
     "name": "stdout",
     "output_type": "stream",
     "text": [
      "용도별 비율 계산 중\n",
      "----------------------------------------------\n",
      "   용도         사용금액     비율\n",
      "0  급여  404,120,000  100.0\n",
      "----------------------------------------------\n",
      "용도별 비율 표 Excel 저장 완료\n"
     ]
    }
   ],
   "source": [
    "# 1) 용도별 비율 수치 계산\n",
    "print('용도별 비율 계산 중')\n",
    "usage_summary = df.groupby('용도')['사용금액'].sum().reset_index()  # '사용금액'\n",
    "usage_summary['비율'] = round((usage_summary['사용금액'] / usage_summary['사용금액'].sum()) * 100, 3)\n",
    "\n",
    "# '사용금액' 열에 콤마를 추가한 형식으로 변환\n",
    "usage_summary['사용금액'] = usage_summary['사용금액'].apply(lambda x: f'{int(x):,}')\n",
    "\n",
    "print('----------------------------------------------')\n",
    "print(usage_summary)\n",
    "print('----------------------------------------------')\n",
    "\n",
    "# 결과물 최종 경로\n",
    "output_file = os.path.join(company_result_root, '결과1_용도 비율 표.xlsx')\n",
    "\n",
    "# 엑셀 파일로 저장\n",
    "usage_summary.to_excel(output_file, index=False)\n",
    "print('용도별 비율 표 Excel 저장 완료')"
   ]
  },
  {
   "cell_type": "code",
   "execution_count": 47,
   "metadata": {},
   "outputs": [
    {
     "name": "stdout",
     "output_type": "stream",
     "text": [
      "용도별 비율 그래프 저장 완료\n"
     ]
    }
   ],
   "source": [
    "# 2) 3% 이상인 항목만 그래프에 표시 (표에는 모두 포함)\n",
    "filtered_data = usage_summary[usage_summary['비율'] >= 3]\n",
    "\n",
    "# Seaborn 스타일 설정 및 글씨 설정\n",
    "sns.set_theme(style='whitegrid')\n",
    "plt.figure(figsize=(10, 6), dpi=300)\n",
    "plt.rcParams['font.family'] = 'NanumGothicOTF' # 'NanumGothic' or 'NanumGothicOTF'\n",
    "\n",
    "# 컬러맵 설정\n",
    "cmap = plt.get_cmap('tab20')\n",
    "colors = [cmap(i / len(filtered_data)) for i in range(len(filtered_data))]\n",
    "\n",
    "# Seaborn을 사용한 barplot 생성\n",
    "bar_plot = sns.barplot(x='비율', y='용도', data=filtered_data,\n",
    "                       hue='용도', palette='tab20', dodge=False, legend=False)\n",
    "\n",
    "# 제목 및 레이블 설정에 폰트 적용\n",
    "bar_plot.set_title('용도별 사용금액 비율 (3% 이상만 표시)', fontsize=16, fontweight='bold')\n",
    "bar_plot.set_xlabel('비율 (%)', fontsize=14, fontweight='bold')\n",
    "bar_plot.set_ylabel('용도', fontsize=14, fontweight='bold')\n",
    "\n",
    "# 막대마다 비율(%) 수치 표시\n",
    "for index, value in enumerate(filtered_data['비율']):\n",
    "    plt.text(value + 0.5, index, f'{value:.1f}%', va='center', fontsize=12, color='black')  # 수치를 막대 옆에 표시\n",
    "\n",
    "# 그래프 저장\n",
    "graph_path = os.path.join(company_result_root, '결과1_용도 비율 그래프.png')\n",
    "plt.tight_layout()\n",
    "plt.savefig(graph_path)\n",
    "plt.close()\n",
    "\n",
    "print('용도별 비율 그래프 저장 완료')"
   ]
  },
  {
   "cell_type": "markdown",
   "metadata": {},
   "source": [
    "#### **2) 매입(간이영수증) : 월별 추세 수치 & Graph**"
   ]
  },
  {
   "cell_type": "code",
   "execution_count": 48,
   "metadata": {},
   "outputs": [
    {
     "name": "stdout",
     "output_type": "stream",
     "text": [
      "용도/월별 금액 추세 계산 중\n",
      "용도 및 월별 금액 추세 그래프 (2023년까지) 저장 완료\n"
     ]
    }
   ],
   "source": [
    "# 분석 2 : 용도/월(Month)별 금액 추세 수치 + Graph\n",
    "print('용도/월별 금액 추세 계산 중')\n",
    "\n",
    "# Seaborn 스타일 설정 및 글씨 설정\n",
    "sns.set_theme(style='whitegrid')\n",
    "plt.figure(figsize=(20, 10), dpi=300)\n",
    "plt.rcParams['font.family'] = 'NanumGothicOTF'\n",
    "\n",
    "# 사용일시에서 '월' 변수를 추출하여 추가\n",
    "df['사용일시'] = pd.to_datetime(df['사용일시'], errors='coerce')  # 사용일시를 datetime 형식으로 변환\n",
    "df['월'] = df['사용일시'].dt.to_period('M')  # '월' 변수 생성 (YYYY-MM 형태)\n",
    "\n",
    "# 2023년까지의 데이터만 필터링\n",
    "df_filtered = df[df['사용일시'] <= '2023-12-31']  # 2023년까지 데이터 선택\n",
    "\n",
    "# 금액 추세 수치 계산\n",
    "monthly_trend = df_filtered.groupby(['월', '용도'])['사용금액'].sum().reset_index()\n",
    "trend_pivot = monthly_trend.pivot(index='월', columns='용도', values='사용금액').fillna(0)\n",
    "trend_pivot.index = trend_pivot.index.to_timestamp().strftime('%Y-%m')  # Timestamp → 'YYYY-MM' 형태 변환\n",
    "\n",
    "# 각 용도별 총 사용 금액 계산\n",
    "total_usage_by_type = trend_pivot.sum(axis=0)\n",
    "\n",
    "# 총 사용 금액이 가장 많은 상위 5개의 용도 선택\n",
    "top_5_usage_types = total_usage_by_type.nlargest(5).index\n",
    "\n",
    "# 상위 5개의 용도만 필터링\n",
    "filtered_trend_pivot = trend_pivot[top_5_usage_types]\n",
    "\n",
    "# Seaborn 라인 차트 생성\n",
    "for usage_type in filtered_trend_pivot.columns:\n",
    "    sns.lineplot(x=filtered_trend_pivot.index, y=filtered_trend_pivot[usage_type], marker='o', label=usage_type)\n",
    "\n",
    "# 제목 및 레이블 설정\n",
    "plt.title('월별 용도별 사용금액 추세 (Top 5)', fontsize=16, fontweight='bold')\n",
    "plt.xlabel('월', fontsize=14, fontweight='bold')\n",
    "plt.ylabel('사용금액', fontsize=14, fontweight='bold')\n",
    "\n",
    "# y축 금액 포맷을 일반 숫자 형식으로 변경 (콤마 포함)\n",
    "ax = plt.gca()  # 현재 축 가져오기\n",
    "\n",
    "# FuncFormatter를 사용하여 금액을 콤마로 구분된 형식으로 변경\n",
    "ax.yaxis.set_major_formatter(ticker.FuncFormatter(lambda x, _: f'{int(x):,}'))\n",
    "\n",
    "# x축 레이블 간격을 조정하고 레이블을 45도 회전\n",
    "plt.xticks(rotation=45, ha='right')  # ha='right'는 레이블을 오른쪽에 정렬\n",
    "\n",
    "# Legend를 그래프 밖으로 위치 조정\n",
    "plt.legend(bbox_to_anchor=(1.05, 1), loc='upper left', borderaxespad=0, fontsize=14)\n",
    "\n",
    "# 그리드 추가\n",
    "plt.grid(True)\n",
    "\n",
    "# 그래프 저장\n",
    "line_chart_path = os.path.join(company_result_root, '결과2_용도 및 월별 추세.png')\n",
    "plt.tight_layout()\n",
    "plt.savefig(line_chart_path, bbox_inches='tight')\n",
    "plt.close()\n",
    "\n",
    "print('용도 및 월별 금액 추세 그래프 (2023년까지) 저장 완료')"
   ]
  },
  {
   "cell_type": "markdown",
   "metadata": {},
   "source": [
    "#### **3) 매입(간이영수증) : 비용 적정성 결과**"
   ]
  },
  {
   "cell_type": "code",
   "execution_count": 49,
   "metadata": {},
   "outputs": [
    {
     "name": "stdout",
     "output_type": "stream",
     "text": [
      "전월 대비 비용 적정성 계산 중\n",
      "전월 대비 비용 적정성 결과 저장 완료\n"
     ]
    }
   ],
   "source": [
    "# 분석 3 : 용도별 전월 대비 비용 적정성 분석 결과\n",
    "print('전월 대비 비용 적정성 계산 중')\n",
    "\n",
    "# 금액 추세 수치 계산\n",
    "monthly_trend = df_filtered.groupby(['월', '용도'])['사용금액'].sum().reset_index()\n",
    "trend_pivot = monthly_trend.pivot(index='월', columns='용도', values='사용금액').fillna(0)\n",
    "trend_pivot.index = trend_pivot.index.to_timestamp().strftime('%Y-%m')  # Timestamp → 'YYYY-MM' 형태 변환\n",
    "\n",
    "# 전월 대비 이번 달의 적정성 평가\n",
    "comparison_results = pd.DataFrame()\n",
    "\n",
    "# 첫 달은 비교 없이 그대로 금액을 표시\n",
    "first_month_result = pd.DataFrame(trend_pivot.iloc[0].apply(lambda x: f'{int(x):,}')).T\n",
    "first_month_result.index = [trend_pivot.index[0]]\n",
    "comparison_results = pd.concat([comparison_results, first_month_result], ignore_index=False)\n",
    "\n",
    "for k in range(1, len(trend_pivot)):  # 첫 달 이후 달부터 평가\n",
    "    last_month = trend_pivot.iloc[k - 1]  # 전월 데이터\n",
    "    current_month = trend_pivot.iloc[k]  # 이번 달 데이터\n",
    "    comparison = current_month - last_month  # 전월과의 차이 계산\n",
    "    \n",
    "    # 적정성 평가\n",
    "    comparison_eval = comparison.apply(\n",
    "        lambda x: '낮음' if x < 0 else ('높음' if x > 0 else '보통')  # 전월 대비 적정성 평가\n",
    "    )\n",
    "    \n",
    "    # '비용 적정성(변동액)' 형태로 정리\n",
    "    result_with_values = comparison_eval + '(' + comparison.fillna(0).round(0).astype(int).apply(lambda x: f'{x:,}') + ')'\n",
    "    \n",
    "    # 결과 정리\n",
    "    monthly_result = pd.DataFrame(result_with_values).T\n",
    "    monthly_result.index = [trend_pivot.index[k]]\n",
    "    comparison_results = pd.concat([comparison_results, monthly_result], ignore_index=False)\n",
    "\n",
    "# 엑셀 저장 경로\n",
    "output_file = os.path.join(company_result_root, '결과3_전월 대비 비용 적정성 결과.xlsx')\n",
    "\n",
    "# Excel 파일 생성\n",
    "wb = Workbook()\n",
    "ws = wb.active\n",
    "ws.title = \"전월 대비 비용 적정성 분석 결과\"\n",
    "\n",
    "# 첫 번째 행에 열 제목을 입력\n",
    "ws.append(['날짜'] + list(comparison_results.columns))\n",
    "\n",
    "# 데이터프레임을 엑셀 시트로 전송\n",
    "for r_idx, row in enumerate(dataframe_to_rows(comparison_results, index=True, header=True), 1):\n",
    "    for c_idx, value in enumerate(row, 1):\n",
    "        ws.cell(row=r_idx, column=c_idx, value=value)\n",
    "        \n",
    "        # 첫 번째 달(첫 행)에는 색상을 부여하지 않음\n",
    "        if r_idx > 1 and c_idx > 1 and isinstance(value, str):  # 첫 번째 행과 열은 제외하고 색상 설정\n",
    "            if '(' in value:  # 괄호가 있는지 확인\n",
    "                eval_text = value.split('(')[0]  # \"낮음\", \"보통\", \"높음\" 추출\n",
    "                number_value = value.split('(')[1].replace(')', '')  # 금액 부분만 추출\n",
    "                \n",
    "                if eval_text == '낮음':\n",
    "                    ws.cell(row=r_idx, column=c_idx, value=number_value).fill = PatternFill(start_color=\"32CD32\", end_color=\"32CD32\", fill_type=\"solid\")  # Limegreen\n",
    "                elif eval_text == '보통':\n",
    "                    ws.cell(row=r_idx, column=c_idx, value=number_value).fill = PatternFill(start_color=\"FFD700\", end_color=\"FFD700\", fill_type=\"solid\")  # Gold\n",
    "                elif eval_text == '높음':\n",
    "                    ws.cell(row=r_idx, column=c_idx, value=number_value).fill = PatternFill(start_color=\"FF6347\", end_color=\"FF6347\", fill_type=\"solid\")  # Tomato\n",
    "\n",
    "# 엑셀 파일 저장\n",
    "wb.save(output_file)\n",
    "print(\"전월 대비 비용 적정성 결과 저장 완료\")"
   ]
  },
  {
   "cell_type": "markdown",
   "metadata": {},
   "source": [
    "#### **4) 매입(간이영수증) : 향후 추세 분석/예측 결과**"
   ]
  },
  {
   "cell_type": "code",
   "execution_count": 50,
   "metadata": {},
   "outputs": [
    {
     "name": "stdout",
     "output_type": "stream",
     "text": [
      "향후 12개월 추세 예측 및 위험도 평가 실행 중\n"
     ]
    },
    {
     "name": "stderr",
     "output_type": "stream",
     "text": [
      "Forecasting:   0%|          | 0/1 [00:00<?, ?it/s]"
     ]
    },
    {
     "name": "stdout",
     "output_type": "stream",
     "text": [
      "----------------------------------------------\n",
      "급여: LSTM Model 사용\n",
      "급여 MAPE: 5.19%\n"
     ]
    },
    {
     "name": "stderr",
     "output_type": "stream",
     "text": [
      "Forecasting: 100%|██████████| 1/1 [00:09<00:00,  9.34s/it]"
     ]
    },
    {
     "name": "stdout",
     "output_type": "stream",
     "text": [
      "----------------------------------------------\n",
      "예측 결과 및 위험도 분석 엑셀 저장 완료\n"
     ]
    },
    {
     "name": "stderr",
     "output_type": "stream",
     "text": [
      "\n"
     ]
    },
    {
     "data": {
      "text/plain": [
       "<Figure size 6000x3000 with 0 Axes>"
      ]
     },
     "metadata": {},
     "output_type": "display_data"
    }
   ],
   "source": [
    "# 경고 무시 설정\n",
    "warnings.filterwarnings(\"ignore\", category=FutureWarning)\n",
    "\n",
    "# Seaborn 스타일 설정 및 글씨 설정\n",
    "sns.set_theme(style='whitegrid')\n",
    "plt.figure(figsize=(20, 10), dpi=300)\n",
    "plt.rcParams['font.family'] = 'NanumGothicOTF'\n",
    "\n",
    "# 분석 4 : 미래 12개월 금액 추세 예측 결과(LSTM + MAPE 평가)\n",
    "print('향후 12개월 추세 예측 및 위험도 평가 실행 중')\n",
    "forecast_results = {} # 추세 예측 결과\n",
    "risk_eval_results = {} # 위험도 평가 결과\n",
    "mape_results = {}  # MAPE 평가 결과\n",
    "forecast_plots = {} # 용도별 예측 그래프 경로\n",
    "\n",
    "for col in tqdm(trend_pivot.columns, desc='Forecasting'):\n",
    "    if len(trend_pivot[col].dropna()) < 3:  # 예측 시도 전에 데이터 길이 체크\n",
    "        print(f'예측 불가 : {col} → 데이터가 3개 미만')\n",
    "        forecast_results[col] = pd.Series([None] * 12)  # 예측 불가\n",
    "        risk_eval_results[col] = [None] * 12  # 예측 불가\n",
    "        mape_results[col] = None  # MAPE 계산 불가\n",
    "        continue\n",
    "    \n",
    "    # 0 값 비율 계산\n",
    "    zero_ratio = (trend_pivot[col] == 0).mean()\n",
    "    \n",
    "    # 0 값 비율이 10%를 넘으면 예측을 건너뜀\n",
    "    if zero_ratio > 0.1:  # 10% 이상 0이면 예측 건너뛰기\n",
    "        print(f'{col}: 예측 건너뜀 (0 값 비율 = {zero_ratio:.2%})')\n",
    "        forecast_results[col] = pd.Series([None] * 12)  # 예측 불가\n",
    "        risk_eval_results[col] = [None] * 12  # 예측 불가\n",
    "        mape_results[col] = None  # MAPE 계산 불가\n",
    "        continue\n",
    "\n",
    "    try:\n",
    "        # LSTM 모델 적용\n",
    "        print('----------------------------------------------')\n",
    "        print(f'{col}: LSTM Model 사용')\n",
    "        forecast = lstm_forecast(trend_pivot[col].dropna(), steps=12)\n",
    "        \n",
    "        # 예측 결과 저장\n",
    "        forecast_results[col] = forecast\n",
    "        \n",
    "        # MAPE 계산 (마지막 12개월의 실제 값과 비교)\n",
    "        actual_values = trend_pivot[col].dropna()[-12:]\n",
    "        if len(actual_values) == 12:\n",
    "            mape = calculate_mape(actual_values, forecast)\n",
    "            mape_results[col] = mape\n",
    "            print(f'{col} MAPE: {mape:.2f}%')\n",
    "        else:\n",
    "            print(f'{col} MAPE 계산 불가: 데이터가 충분하지 않음')\n",
    "            mape_results[col] = None\n",
    "        \n",
    "        # 인덱스를 명시적으로 날짜로 변환 (tz 오류 해결)\n",
    "        trend_pivot.index = pd.to_datetime(trend_pivot.index, format='%Y-%m')\n",
    "        \n",
    "        # Seaborn lineplot을 사용하여 실제값과 예측값 그리기\n",
    "        plt.figure(figsize=(20, 10), dpi=300)  # 모든 그래프의 크기를 동일하게 설정\n",
    "        sns.lineplot(x=trend_pivot.index, y=trend_pivot[col], label='실제값', marker='o', color='blue')\n",
    "        sns.lineplot(x=pd.date_range(start=trend_pivot.index[-1], periods=12, freq='M'), y=forecast, label='예측값 (LSTM Model)', linestyle='--', marker='x', color='red')\n",
    "\n",
    "        # 제목 및 레이블 설정\n",
    "        plt.title(f'{col} 향후 12개월 예상 금액', fontsize=16, fontweight='bold')\n",
    "        plt.xlabel('날짜', fontsize=14, fontweight='bold')\n",
    "        plt.ylabel('금액', fontsize=14, fontweight='bold')\n",
    "\n",
    "        # y축 금액 포맷을 일반 숫자 형식으로 변경 (콤마 포함)\n",
    "        ax = plt.gca()  # 현재 축 가져오기\n",
    "\n",
    "        # FuncFormatter를 사용하여 금액을 콤마로 구분된 형식으로 변경\n",
    "        ax.yaxis.set_major_formatter(ticker.FuncFormatter(lambda x, _: f'{int(x):,}'))\n",
    "        \n",
    "        # y축의 값을 0부터 시작하도록 설정\n",
    "        plt.ylim(bottom=0)\n",
    "\n",
    "        # x축 레이블 간격을 조정하고 레이블을 45도 회전\n",
    "        plt.xticks(rotation=45, ha='right')  # ha='right'는 레이블을 오른쪽에 정렬\n",
    "\n",
    "        # Legend를 그래프 밖으로 위치 조정\n",
    "        plt.legend(bbox_to_anchor=(1.05, 1), loc='upper left', borderaxespad=0, fontsize=14)\n",
    "\n",
    "        # 그래프 저장\n",
    "        forecast_plot_path = os.path.join(company_result_root, f'결과4_용도 {col} 예측 그래프.png')\n",
    "        plt.tight_layout()\n",
    "        plt.savefig(forecast_plot_path)\n",
    "        plt.close()\n",
    "        \n",
    "        # 그래프 경로 저장\n",
    "        forecast_plots[col] = forecast_plot_path\n",
    "        \n",
    "    except Exception as e:\n",
    "        # 예측 실패 시 None 값 처리\n",
    "        print(f'예측 오류 {col}: {e}')\n",
    "        forecast_results[col] = pd.Series([None] * 12)\n",
    "        risk_eval_results[col] = [None] * 12\n",
    "        mape_results[col] = None\n",
    "    \n",
    "    print('----------------------------------------------')\n",
    "\n",
    "# 예측 결과 + 위험도 평가 + MAPE 결과 정리\n",
    "forecast_df = pd.DataFrame(forecast_results)\n",
    "start_date = df['사용일시'].max()\n",
    "forecast_df.index = pd.date_range(start=start_date, periods=12, freq='M')\n",
    "forecast_df.index = forecast_df.index.strftime('%Y-%m')  # Index 'yyyy-mm' 형태 변환\n",
    "\n",
    "# MAPE 결과 추가\n",
    "mape_df = pd.DataFrame(mape_results, index=[0])\n",
    "mape_df.index = ['MAPE']\n",
    "\n",
    "# 예측 결과 + MAPE 평가 취합 및 정렬\n",
    "forecast_combined_df = pd.concat([forecast_df, mape_df], axis=0)\n",
    "\n",
    "# 엑셀 저장 경로 설정\n",
    "output_file = os.path.join(company_result_root, '결과4_추세 예측 결과.xlsx')\n",
    "\n",
    "# Excel 파일 생성 및 저장\n",
    "wb = Workbook()\n",
    "ws = wb.active\n",
    "ws.title = \"예측 결과\"\n",
    "\n",
    "# 첫 번째 행에 열 제목을 입력\n",
    "ws.append(['날짜'] + list(forecast_combined_df.columns))\n",
    "\n",
    "# 데이터프레임을 엑셀 시트로 전송 및 색상 적용\n",
    "for r_idx, row in enumerate(forecast_combined_df.itertuples(), 1):\n",
    "    for c_idx, value in enumerate(row, 0):  # 0에서 시작하여 열을 일치시킴\n",
    "        if c_idx == 0:\n",
    "            # 첫 번째 열에 날짜를 입력\n",
    "            ws.cell(row=r_idx + 1, column=1, value=forecast_combined_df.index[r_idx - 1])\n",
    "        else:\n",
    "            # 나머지 열에 값 입력\n",
    "            ws.cell(row=r_idx + 1, column=c_idx + 1, value=value)\n",
    "\n",
    "            # MAPE 행에는 색상을 적용하지 않음\n",
    "            if forecast_combined_df.index[r_idx - 1] != 'MAPE' and pd.notna(value):\n",
    "                # 과거 평균값과 비교하여 색상 적용\n",
    "                col_name = forecast_combined_df.columns[c_idx - 1]  # c_idx-1로 수정하여 열을 올바르게 참조\n",
    "                \n",
    "                # 예측하기 직전 달까지의 평균값 계산 (MAPE와 현재 행을 제외한 값들로 평균 계산)\n",
    "                avg_past = trend_pivot[col_name].mean()\n",
    "\n",
    "                # 값이 평균보다 작으면 초록색, 크면 빨간색, 비슷하면 주황색\n",
    "                if value < avg_past:\n",
    "                    ws.cell(row=r_idx + 1, column=c_idx + 1).fill = PatternFill(start_color=\"32CD32\", end_color=\"32CD32\", fill_type=\"solid\")  # Limegreen\n",
    "                elif value > avg_past:\n",
    "                    ws.cell(row=r_idx + 1, column=c_idx + 1).fill = PatternFill(start_color=\"FF6347\", end_color=\"FF6347\", fill_type=\"solid\")  # Tomato\n",
    "                else:\n",
    "                    ws.cell(row=r_idx + 1, column=c_idx + 1).fill = PatternFill(start_color=\"FFD700\", end_color=\"FFD700\", fill_type=\"solid\")  # Gold\n",
    "\n",
    "# 엑셀 파일 저장\n",
    "wb.save(output_file)\n",
    "print(\"예측 결과 및 위험도 분석 엑셀 저장 완료\")"
   ]
  }
 ],
 "metadata": {
  "kernelspec": {
   "display_name": "base",
   "language": "python",
   "name": "python3"
  },
  "language_info": {
   "codemirror_mode": {
    "name": "ipython",
    "version": 3
   },
   "file_extension": ".py",
   "mimetype": "text/x-python",
   "name": "python",
   "nbconvert_exporter": "python",
   "pygments_lexer": "ipython3",
   "version": "3.12.4"
  }
 },
 "nbformat": 4,
 "nbformat_minor": 2
}
